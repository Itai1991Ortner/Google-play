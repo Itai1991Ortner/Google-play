{
  "nbformat": 4,
  "nbformat_minor": 0,
  "metadata": {
    "colab": {
      "name": "kicks with PCA.ipynb",
      "provenance": [],
      "collapsed_sections": [],
      "mount_file_id": "1e0crUZc3eqlT59oDlb7-Ew8i2_4_q4ox",
      "authorship_tag": "ABX9TyNtL2eDC7YmY0GPzCElE7sG",
      "include_colab_link": true
    },
    "kernelspec": {
      "display_name": "Python 3",
      "name": "python3"
    }
  },
  "cells": [
    {
      "cell_type": "markdown",
      "metadata": {
        "id": "view-in-github",
        "colab_type": "text"
      },
      "source": [
        "<a href=\"https://colab.research.google.com/github/Itai1991Ortner/Machine-Learning/blob/main/kicks_with_PCA.ipynb\" target=\"_parent\"><img src=\"https://colab.research.google.com/assets/colab-badge.svg\" alt=\"Open In Colab\"/></a>"
      ]
    },
    {
      "cell_type": "code",
      "metadata": {
        "id": "N8Y104q3baoA"
      },
      "source": [
        "import pandas as pd\n",
        "import numpy as np\n",
        "import seaborn as sns\n",
        "import matplotlib.pyplot as plt\n",
        "%matplotlib inline\n",
        "from sklearn.ensemble import RandomForestClassifier\n",
        "from datetime import datetime\n",
        "from sklearn.pipeline import Pipeline, FeatureUnion\n",
        "from sklearn.base import TransformerMixin, BaseEstimator\n",
        "from sklearn.preprocessing import StandardScaler, OneHotEncoder\n",
        "from sklearn.model_selection import train_test_split as split ,GridSearchCV,RandomizedSearchCV\n",
        "from sklearn.metrics import f1_score, accuracy_score, confusion_matrix, classification_report\n",
        "from xgboost import XGBClassifier\n",
        "from sklearn.decomposition import PCA\n",
        "from sklearn.ensemble import VotingClassifier\n",
        "from sklearn.mixture import GaussianMixture"
      ],
      "execution_count": null,
      "outputs": []
    },
    {
      "cell_type": "code",
      "metadata": {
        "colab": {
          "base_uri": "https://localhost:8080/"
        },
        "id": "aY8WF-ldCwFN",
        "outputId": "716a509f-aaaa-4932-b4b8-ae7d4501b828"
      },
      "source": [
        "from google.colab import drive\n",
        "drive.mount('/content/drive')"
      ],
      "execution_count": null,
      "outputs": [
        {
          "output_type": "stream",
          "text": [
            "Drive already mounted at /content/drive; to attempt to forcibly remount, call drive.mount(\"/content/drive\", force_remount=True).\n"
          ],
          "name": "stdout"
        }
      ]
    },
    {
      "cell_type": "code",
      "metadata": {
        "id": "DmCd92VpAl4D"
      },
      "source": [
        "my_path='/content/drive/MyDrive/kickstart/ks-projects-201801.csv'\n",
        "df=pd.read_csv(my_path,parse_dates=[\"deadline\",\"launched\"])"
      ],
      "execution_count": null,
      "outputs": []
    },
    {
      "cell_type": "code",
      "metadata": {
        "id": "oPCRqoyaBQRW",
        "colab": {
          "base_uri": "https://localhost:8080/",
          "height": 204
        },
        "outputId": "0f7aab66-06ea-47e1-dd9e-108a2a82c0e5"
      },
      "source": [
        "df.head()"
      ],
      "execution_count": null,
      "outputs": [
        {
          "output_type": "execute_result",
          "data": {
            "text/html": [
              "<div>\n",
              "<style scoped>\n",
              "    .dataframe tbody tr th:only-of-type {\n",
              "        vertical-align: middle;\n",
              "    }\n",
              "\n",
              "    .dataframe tbody tr th {\n",
              "        vertical-align: top;\n",
              "    }\n",
              "\n",
              "    .dataframe thead th {\n",
              "        text-align: right;\n",
              "    }\n",
              "</style>\n",
              "<table border=\"1\" class=\"dataframe\">\n",
              "  <thead>\n",
              "    <tr style=\"text-align: right;\">\n",
              "      <th></th>\n",
              "      <th>ID</th>\n",
              "      <th>name</th>\n",
              "      <th>category</th>\n",
              "      <th>main_category</th>\n",
              "      <th>currency</th>\n",
              "      <th>deadline</th>\n",
              "      <th>goal</th>\n",
              "      <th>launched</th>\n",
              "      <th>pledged</th>\n",
              "      <th>state</th>\n",
              "      <th>backers</th>\n",
              "      <th>country</th>\n",
              "      <th>usd pledged</th>\n",
              "      <th>usd_pledged_real</th>\n",
              "      <th>usd_goal_real</th>\n",
              "    </tr>\n",
              "  </thead>\n",
              "  <tbody>\n",
              "    <tr>\n",
              "      <th>0</th>\n",
              "      <td>1000002330</td>\n",
              "      <td>The Songs of Adelaide &amp; Abullah</td>\n",
              "      <td>Poetry</td>\n",
              "      <td>Publishing</td>\n",
              "      <td>GBP</td>\n",
              "      <td>2015-10-09</td>\n",
              "      <td>1000.0</td>\n",
              "      <td>2015-08-11 12:12:28</td>\n",
              "      <td>0.0</td>\n",
              "      <td>failed</td>\n",
              "      <td>0</td>\n",
              "      <td>GB</td>\n",
              "      <td>0.0</td>\n",
              "      <td>0.0</td>\n",
              "      <td>1533.95</td>\n",
              "    </tr>\n",
              "    <tr>\n",
              "      <th>1</th>\n",
              "      <td>1000003930</td>\n",
              "      <td>Greeting From Earth: ZGAC Arts Capsule For ET</td>\n",
              "      <td>Narrative Film</td>\n",
              "      <td>Film &amp; Video</td>\n",
              "      <td>USD</td>\n",
              "      <td>2017-11-01</td>\n",
              "      <td>30000.0</td>\n",
              "      <td>2017-09-02 04:43:57</td>\n",
              "      <td>2421.0</td>\n",
              "      <td>failed</td>\n",
              "      <td>15</td>\n",
              "      <td>US</td>\n",
              "      <td>100.0</td>\n",
              "      <td>2421.0</td>\n",
              "      <td>30000.00</td>\n",
              "    </tr>\n",
              "    <tr>\n",
              "      <th>2</th>\n",
              "      <td>1000004038</td>\n",
              "      <td>Where is Hank?</td>\n",
              "      <td>Narrative Film</td>\n",
              "      <td>Film &amp; Video</td>\n",
              "      <td>USD</td>\n",
              "      <td>2013-02-26</td>\n",
              "      <td>45000.0</td>\n",
              "      <td>2013-01-12 00:20:50</td>\n",
              "      <td>220.0</td>\n",
              "      <td>failed</td>\n",
              "      <td>3</td>\n",
              "      <td>US</td>\n",
              "      <td>220.0</td>\n",
              "      <td>220.0</td>\n",
              "      <td>45000.00</td>\n",
              "    </tr>\n",
              "    <tr>\n",
              "      <th>3</th>\n",
              "      <td>1000007540</td>\n",
              "      <td>ToshiCapital Rekordz Needs Help to Complete Album</td>\n",
              "      <td>Music</td>\n",
              "      <td>Music</td>\n",
              "      <td>USD</td>\n",
              "      <td>2012-04-16</td>\n",
              "      <td>5000.0</td>\n",
              "      <td>2012-03-17 03:24:11</td>\n",
              "      <td>1.0</td>\n",
              "      <td>failed</td>\n",
              "      <td>1</td>\n",
              "      <td>US</td>\n",
              "      <td>1.0</td>\n",
              "      <td>1.0</td>\n",
              "      <td>5000.00</td>\n",
              "    </tr>\n",
              "    <tr>\n",
              "      <th>4</th>\n",
              "      <td>1000011046</td>\n",
              "      <td>Community Film Project: The Art of Neighborhoo...</td>\n",
              "      <td>Film &amp; Video</td>\n",
              "      <td>Film &amp; Video</td>\n",
              "      <td>USD</td>\n",
              "      <td>2015-08-29</td>\n",
              "      <td>19500.0</td>\n",
              "      <td>2015-07-04 08:35:03</td>\n",
              "      <td>1283.0</td>\n",
              "      <td>canceled</td>\n",
              "      <td>14</td>\n",
              "      <td>US</td>\n",
              "      <td>1283.0</td>\n",
              "      <td>1283.0</td>\n",
              "      <td>19500.00</td>\n",
              "    </tr>\n",
              "  </tbody>\n",
              "</table>\n",
              "</div>"
            ],
            "text/plain": [
              "           ID  ... usd_goal_real\n",
              "0  1000002330  ...       1533.95\n",
              "1  1000003930  ...      30000.00\n",
              "2  1000004038  ...      45000.00\n",
              "3  1000007540  ...       5000.00\n",
              "4  1000011046  ...      19500.00\n",
              "\n",
              "[5 rows x 15 columns]"
            ]
          },
          "metadata": {
            "tags": []
          },
          "execution_count": 4
        }
      ]
    },
    {
      "cell_type": "code",
      "metadata": {
        "id": "FVFuSOj7Cv6U"
      },
      "source": [
        "# create a map of features - to understand the content better\n",
        "def table_info(df):\n",
        "    print(f\"Dataset Shape: {df.shape}\")\n",
        "    first_check = pd.DataFrame(df.dtypes,columns=['dtypes'])\n",
        "    first_check = first_check.reset_index()\n",
        "    first_check['Name'] = first_check['index']\n",
        "    first_check = first_check[['Name','dtypes']]\n",
        "    first_check['isnull'] = df.isnull().sum().values    \n",
        "    first_check['num_Uniques'] = df.nunique().values\n",
        "\n",
        "    return first_check"
      ],
      "execution_count": null,
      "outputs": []
    },
    {
      "cell_type": "code",
      "metadata": {
        "colab": {
          "base_uri": "https://localhost:8080/",
          "height": 531
        },
        "id": "Vm5VS5T4DJ5v",
        "outputId": "60a64836-1d27-40c4-90c8-9ea56d8bd197"
      },
      "source": [
        "#present the table above\n",
        "table_info(df)"
      ],
      "execution_count": null,
      "outputs": [
        {
          "output_type": "stream",
          "text": [
            "Dataset Shape: (378661, 15)\n"
          ],
          "name": "stdout"
        },
        {
          "output_type": "execute_result",
          "data": {
            "text/html": [
              "<div>\n",
              "<style scoped>\n",
              "    .dataframe tbody tr th:only-of-type {\n",
              "        vertical-align: middle;\n",
              "    }\n",
              "\n",
              "    .dataframe tbody tr th {\n",
              "        vertical-align: top;\n",
              "    }\n",
              "\n",
              "    .dataframe thead th {\n",
              "        text-align: right;\n",
              "    }\n",
              "</style>\n",
              "<table border=\"1\" class=\"dataframe\">\n",
              "  <thead>\n",
              "    <tr style=\"text-align: right;\">\n",
              "      <th></th>\n",
              "      <th>Name</th>\n",
              "      <th>dtypes</th>\n",
              "      <th>isnull</th>\n",
              "      <th>num_Uniques</th>\n",
              "    </tr>\n",
              "  </thead>\n",
              "  <tbody>\n",
              "    <tr>\n",
              "      <th>0</th>\n",
              "      <td>ID</td>\n",
              "      <td>int64</td>\n",
              "      <td>0</td>\n",
              "      <td>378661</td>\n",
              "    </tr>\n",
              "    <tr>\n",
              "      <th>1</th>\n",
              "      <td>name</td>\n",
              "      <td>object</td>\n",
              "      <td>4</td>\n",
              "      <td>375764</td>\n",
              "    </tr>\n",
              "    <tr>\n",
              "      <th>2</th>\n",
              "      <td>category</td>\n",
              "      <td>object</td>\n",
              "      <td>0</td>\n",
              "      <td>159</td>\n",
              "    </tr>\n",
              "    <tr>\n",
              "      <th>3</th>\n",
              "      <td>main_category</td>\n",
              "      <td>object</td>\n",
              "      <td>0</td>\n",
              "      <td>15</td>\n",
              "    </tr>\n",
              "    <tr>\n",
              "      <th>4</th>\n",
              "      <td>currency</td>\n",
              "      <td>object</td>\n",
              "      <td>0</td>\n",
              "      <td>14</td>\n",
              "    </tr>\n",
              "    <tr>\n",
              "      <th>5</th>\n",
              "      <td>deadline</td>\n",
              "      <td>datetime64[ns]</td>\n",
              "      <td>0</td>\n",
              "      <td>3164</td>\n",
              "    </tr>\n",
              "    <tr>\n",
              "      <th>6</th>\n",
              "      <td>goal</td>\n",
              "      <td>float64</td>\n",
              "      <td>0</td>\n",
              "      <td>8353</td>\n",
              "    </tr>\n",
              "    <tr>\n",
              "      <th>7</th>\n",
              "      <td>launched</td>\n",
              "      <td>datetime64[ns]</td>\n",
              "      <td>0</td>\n",
              "      <td>378089</td>\n",
              "    </tr>\n",
              "    <tr>\n",
              "      <th>8</th>\n",
              "      <td>pledged</td>\n",
              "      <td>float64</td>\n",
              "      <td>0</td>\n",
              "      <td>62130</td>\n",
              "    </tr>\n",
              "    <tr>\n",
              "      <th>9</th>\n",
              "      <td>state</td>\n",
              "      <td>object</td>\n",
              "      <td>0</td>\n",
              "      <td>6</td>\n",
              "    </tr>\n",
              "    <tr>\n",
              "      <th>10</th>\n",
              "      <td>backers</td>\n",
              "      <td>int64</td>\n",
              "      <td>0</td>\n",
              "      <td>3963</td>\n",
              "    </tr>\n",
              "    <tr>\n",
              "      <th>11</th>\n",
              "      <td>country</td>\n",
              "      <td>object</td>\n",
              "      <td>0</td>\n",
              "      <td>23</td>\n",
              "    </tr>\n",
              "    <tr>\n",
              "      <th>12</th>\n",
              "      <td>usd pledged</td>\n",
              "      <td>float64</td>\n",
              "      <td>3797</td>\n",
              "      <td>95455</td>\n",
              "    </tr>\n",
              "    <tr>\n",
              "      <th>13</th>\n",
              "      <td>usd_pledged_real</td>\n",
              "      <td>float64</td>\n",
              "      <td>0</td>\n",
              "      <td>106065</td>\n",
              "    </tr>\n",
              "    <tr>\n",
              "      <th>14</th>\n",
              "      <td>usd_goal_real</td>\n",
              "      <td>float64</td>\n",
              "      <td>0</td>\n",
              "      <td>50339</td>\n",
              "    </tr>\n",
              "  </tbody>\n",
              "</table>\n",
              "</div>"
            ],
            "text/plain": [
              "                Name          dtypes  isnull  num_Uniques\n",
              "0                 ID           int64       0       378661\n",
              "1               name          object       4       375764\n",
              "2           category          object       0          159\n",
              "3      main_category          object       0           15\n",
              "4           currency          object       0           14\n",
              "5           deadline  datetime64[ns]       0         3164\n",
              "6               goal         float64       0         8353\n",
              "7           launched  datetime64[ns]       0       378089\n",
              "8            pledged         float64       0        62130\n",
              "9              state          object       0            6\n",
              "10           backers           int64       0         3963\n",
              "11           country          object       0           23\n",
              "12       usd pledged         float64    3797        95455\n",
              "13  usd_pledged_real         float64       0       106065\n",
              "14     usd_goal_real         float64       0        50339"
            ]
          },
          "metadata": {
            "tags": []
          },
          "execution_count": 6
        }
      ]
    },
    {
      "cell_type": "code",
      "metadata": {
        "id": "6Q5skLZuEr01"
      },
      "source": [
        "#base cleaning\n",
        "df=df.rename(lambda col: col.strip(),axis=1)\n",
        "df.columns = df.columns.str.replace(' ','_')\n",
        "\n",
        "df[\"dates_gap\"]=(df[\"deadline\"]-df[\"launched\"]).dt.days\n",
        "df=df.drop(columns=['ID','name','deadline','launched',\"usd_pledged\",'goal','usd_goal_real'], axis=1)"
      ],
      "execution_count": null,
      "outputs": []
    },
    {
      "cell_type": "code",
      "metadata": {
        "colab": {
          "base_uri": "https://localhost:8080/",
          "height": 608
        },
        "id": "IiUkJHC1GKE9",
        "outputId": "8e72e7a1-91ee-47d3-bb34-cef34ecfec08"
      },
      "source": [
        "#target distribution\n",
        "figure = plt.figure(figsize = (20,10))\n",
        "df[\"state\"].value_counts().plot.pie()\n",
        "plt.title('Target options')"
      ],
      "execution_count": null,
      "outputs": [
        {
          "output_type": "execute_result",
          "data": {
            "text/plain": [
              "Text(0.5, 1.0, 'Target options')"
            ]
          },
          "metadata": {
            "tags": []
          },
          "execution_count": 8
        },
        {
          "output_type": "display_data",
          "data": {
            "image/png": "[encoded data removed]",
            "text/plain": [
              "<Figure size 1440x720 with 1 Axes>"
            ]
          },
          "metadata": {
            "tags": []
          }
        }
      ]
    },
    {
      "cell_type": "code",
      "metadata": {
        "colab": {
          "base_uri": "https://localhost:8080/",
          "height": 500
        },
        "id": "19IrvvGaEMHv",
        "outputId": "4e77d895-28e5-46ce-a495-cc8ee4c569cb"
      },
      "source": [
        "#correlation heatmap plot\n",
        "plt.figure(figsize=(8,8))\n",
        "correl=df.corr()\n",
        "sns.heatmap(correl,annot=True,cmap='Blues')\n",
        "plt.title('Correlation cmap  features')\n",
        "plt.show()"
      ],
      "execution_count": null,
      "outputs": [
        {
          "output_type": "display_data",
          "data": {
            "image/png": "[encoded data removed]",
            "text/plain": [
              "<Figure size 576x576 with 2 Axes>"
            ]
          },
          "metadata": {
            "tags": [],
            "needs_background": "light"
          }
        }
      ]
    },
    {
      "cell_type": "code",
      "metadata": {
        "colab": {
          "base_uri": "https://localhost:8080/",
          "height": 567
        },
        "id": "7BPD5emA62SG",
        "outputId": "215ac402-3955-4698-bd06-2cdbc10da3ea"
      },
      "source": [
        "#plotting connection of any combination of 3 features\n",
        "pairploting=df[['backers','pledged','usd_pledged_real']]\n",
        "sns.pairplot(data=pairploting)"
      ],
      "execution_count": null,
      "outputs": [
        {
          "output_type": "execute_result",
          "data": {
            "text/plain": [
              "<seaborn.axisgrid.PairGrid at 0x7fece0293bd0>"
            ]
          },
          "metadata": {
            "tags": []
          },
          "execution_count": 10
        },
        {
          "output_type": "display_data",
          "data": {
            "image/png": "[encoded data removed]",
            "text/plain": [
              "<Figure size 540x540 with 12 Axes>"
            ]
          },
          "metadata": {
            "tags": [],
            "needs_background": "light"
          }
        }
      ]
    },
    {
      "cell_type": "code",
      "metadata": {
        "id": "ssSj2qvJK9wX"
      },
      "source": [
        "df[\"state\"]=df[\"state\"].replace({'canceled':'failed'}).replace({'live':'other'}).replace({'undefined':'other'}).replace({'suspended':'failed'})"
      ],
      "execution_count": null,
      "outputs": []
    },
    {
      "cell_type": "code",
      "metadata": {
        "id": "xTy8--22I8ia"
      },
      "source": [
        "#initiating X and y\n",
        "X=df.drop(columns=[\"state\"])\n",
        "X_numeric=df.drop(columns=[\"category\",\"main_category\",\"currency\",\"country\",\"state\"])\n",
        "y=df[\"state\"]"
      ],
      "execution_count": null,
      "outputs": []
    },
    {
      "cell_type": "code",
      "metadata": {
        "colab": {
          "base_uri": "https://localhost:8080/",
          "height": 892
        },
        "id": "NsrXC0YaLxy0",
        "outputId": "497bdc17-f745-41aa-8d2f-ef0f5963f37c"
      },
      "source": [
        "gmm = GaussianMixture(n_components=2).fit(X_numeric)\n",
        "samp=gmm.score_samples(X_numeric)\n",
        "plt.figure(figsize=(15,15))\n",
        "sns.kdeplot(data=df,x=np.exp(samp),hue=\"state\", fill=True, multiple=\"stack\")\n",
        "plt.title(\"Gaussian Mixture Model on kickstart states\")\n",
        "plt.show()"
      ],
      "execution_count": null,
      "outputs": [
        {
          "output_type": "display_data",
          "data": {
            "image/png": "[encoded data removed]",
            "text/plain": [
              "<Figure size 1080x1080 with 1 Axes>"
            ]
          },
          "metadata": {
            "tags": [],
            "needs_background": "light"
          }
        }
      ]
    },
    {
      "cell_type": "code",
      "metadata": {
        "id": "wh6BzDJsIqTM"
      },
      "source": [
        "# method that use PCA to remove outliers\n",
        "def remove_outliers(X,X_numeric, n_outliers):\n",
        "  pca = PCA(n_components=3)\n",
        "\n",
        "  pca.fit(X_numeric)\n",
        "  X_reconstructed = pca.inverse_transform(pca.transform(X_numeric))\n",
        "  X_reconstructed = pd.DataFrame(X_reconstructed,index=X_numeric.index,columns = X_numeric.columns)\n",
        "  errors=((X_reconstructed - X_numeric)**2).sum(axis=1)\n",
        "    \n",
        "  X_new =X.join(errors.rename(\"X_reconstructed\"))\n",
        "  X_new[\"X_reconstructed\"]=X_new[\"X_reconstructed\"]\n",
        "  X_new=X_new.sort_values(ascending=False,by=\"X_reconstructed\")\n",
        "  X_new=X_new.iloc[:-1*n_outliers,:]\n",
        "\n",
        "  return X_new"
      ],
      "execution_count": null,
      "outputs": []
    },
    {
      "cell_type": "code",
      "metadata": {
        "colab": {
          "base_uri": "https://localhost:8080/",
          "height": 419
        },
        "id": "-Pv6NCqLMuWo",
        "outputId": "76ef0d8d-79dc-4f9f-ecba-495c52b7e9bd"
      },
      "source": [
        "#executing the outlier removal\n",
        "X=remove_outliers(X,X_numeric,100)\n",
        "y=y[X.index]\n",
        "X"
      ],
      "execution_count": null,
      "outputs": [
        {
          "output_type": "execute_result",
          "data": {
            "text/html": [
              "<div>\n",
              "<style scoped>\n",
              "    .dataframe tbody tr th:only-of-type {\n",
              "        vertical-align: middle;\n",
              "    }\n",
              "\n",
              "    .dataframe tbody tr th {\n",
              "        vertical-align: top;\n",
              "    }\n",
              "\n",
              "    .dataframe thead th {\n",
              "        text-align: right;\n",
              "    }\n",
              "</style>\n",
              "<table border=\"1\" class=\"dataframe\">\n",
              "  <thead>\n",
              "    <tr style=\"text-align: right;\">\n",
              "      <th></th>\n",
              "      <th>category</th>\n",
              "      <th>main_category</th>\n",
              "      <th>currency</th>\n",
              "      <th>pledged</th>\n",
              "      <th>backers</th>\n",
              "      <th>country</th>\n",
              "      <th>usd_pledged_real</th>\n",
              "      <th>dates_gap</th>\n",
              "      <th>X_reconstructed</th>\n",
              "    </tr>\n",
              "  </thead>\n",
              "  <tbody>\n",
              "    <tr>\n",
              "      <th>319002</th>\n",
              "      <td>Publishing</td>\n",
              "      <td>Publishing</td>\n",
              "      <td>CHF</td>\n",
              "      <td>0.00</td>\n",
              "      <td>0</td>\n",
              "      <td>CH</td>\n",
              "      <td>0.00</td>\n",
              "      <td>16738</td>\n",
              "      <td>2.790408e+08</td>\n",
              "    </tr>\n",
              "    <tr>\n",
              "      <th>2842</th>\n",
              "      <td>Film &amp; Video</td>\n",
              "      <td>Film &amp; Video</td>\n",
              "      <td>USD</td>\n",
              "      <td>0.00</td>\n",
              "      <td>0</td>\n",
              "      <td>US</td>\n",
              "      <td>0.00</td>\n",
              "      <td>14866</td>\n",
              "      <td>2.200035e+08</td>\n",
              "    </tr>\n",
              "    <tr>\n",
              "      <th>48147</th>\n",
              "      <td>Art</td>\n",
              "      <td>Art</td>\n",
              "      <td>USD</td>\n",
              "      <td>0.00</td>\n",
              "      <td>0</td>\n",
              "      <td>US</td>\n",
              "      <td>0.00</td>\n",
              "      <td>14834</td>\n",
              "      <td>2.190552e+08</td>\n",
              "    </tr>\n",
              "    <tr>\n",
              "      <th>94579</th>\n",
              "      <td>Theater</td>\n",
              "      <td>Theater</td>\n",
              "      <td>USD</td>\n",
              "      <td>0.00</td>\n",
              "      <td>0</td>\n",
              "      <td>US</td>\n",
              "      <td>0.00</td>\n",
              "      <td>14760</td>\n",
              "      <td>2.168702e+08</td>\n",
              "    </tr>\n",
              "    <tr>\n",
              "      <th>75397</th>\n",
              "      <td>Film &amp; Video</td>\n",
              "      <td>Film &amp; Video</td>\n",
              "      <td>USD</td>\n",
              "      <td>0.00</td>\n",
              "      <td>0</td>\n",
              "      <td>US</td>\n",
              "      <td>0.00</td>\n",
              "      <td>14749</td>\n",
              "      <td>2.165464e+08</td>\n",
              "    </tr>\n",
              "    <tr>\n",
              "      <th>...</th>\n",
              "      <td>...</td>\n",
              "      <td>...</td>\n",
              "      <td>...</td>\n",
              "      <td>...</td>\n",
              "      <td>...</td>\n",
              "      <td>...</td>\n",
              "      <td>...</td>\n",
              "      <td>...</td>\n",
              "      <td>...</td>\n",
              "    </tr>\n",
              "    <tr>\n",
              "      <th>59402</th>\n",
              "      <td>Tabletop Games</td>\n",
              "      <td>Games</td>\n",
              "      <td>USD</td>\n",
              "      <td>27127.84</td>\n",
              "      <td>1186</td>\n",
              "      <td>US</td>\n",
              "      <td>27127.84</td>\n",
              "      <td>33</td>\n",
              "      <td>6.392721e-02</td>\n",
              "    </tr>\n",
              "    <tr>\n",
              "      <th>328696</th>\n",
              "      <td>Tabletop Games</td>\n",
              "      <td>Games</td>\n",
              "      <td>USD</td>\n",
              "      <td>154609.99</td>\n",
              "      <td>4451</td>\n",
              "      <td>US</td>\n",
              "      <td>154609.99</td>\n",
              "      <td>33</td>\n",
              "      <td>6.168709e-02</td>\n",
              "    </tr>\n",
              "    <tr>\n",
              "      <th>92333</th>\n",
              "      <td>Design</td>\n",
              "      <td>Design</td>\n",
              "      <td>GBP</td>\n",
              "      <td>265397.00</td>\n",
              "      <td>3316</td>\n",
              "      <td>GB</td>\n",
              "      <td>406888.36</td>\n",
              "      <td>34</td>\n",
              "      <td>6.032452e-02</td>\n",
              "    </tr>\n",
              "    <tr>\n",
              "      <th>329017</th>\n",
              "      <td>Video Games</td>\n",
              "      <td>Games</td>\n",
              "      <td>GBP</td>\n",
              "      <td>39061.02</td>\n",
              "      <td>1652</td>\n",
              "      <td>GB</td>\n",
              "      <td>65722.78</td>\n",
              "      <td>33</td>\n",
              "      <td>6.010816e-02</td>\n",
              "    </tr>\n",
              "    <tr>\n",
              "      <th>256608</th>\n",
              "      <td>Tabletop Games</td>\n",
              "      <td>Games</td>\n",
              "      <td>USD</td>\n",
              "      <td>95273.84</td>\n",
              "      <td>1912</td>\n",
              "      <td>US</td>\n",
              "      <td>95273.84</td>\n",
              "      <td>33</td>\n",
              "      <td>5.995281e-02</td>\n",
              "    </tr>\n",
              "  </tbody>\n",
              "</table>\n",
              "<p>378561 rows × 9 columns</p>\n",
              "</div>"
            ],
            "text/plain": [
              "              category main_category  ... dates_gap  X_reconstructed\n",
              "319002      Publishing    Publishing  ...     16738     2.790408e+08\n",
              "2842      Film & Video  Film & Video  ...     14866     2.200035e+08\n",
              "48147              Art           Art  ...     14834     2.190552e+08\n",
              "94579          Theater       Theater  ...     14760     2.168702e+08\n",
              "75397     Film & Video  Film & Video  ...     14749     2.165464e+08\n",
              "...                ...           ...  ...       ...              ...\n",
              "59402   Tabletop Games         Games  ...        33     6.392721e-02\n",
              "328696  Tabletop Games         Games  ...        33     6.168709e-02\n",
              "92333           Design        Design  ...        34     6.032452e-02\n",
              "329017     Video Games         Games  ...        33     6.010816e-02\n",
              "256608  Tabletop Games         Games  ...        33     5.995281e-02\n",
              "\n",
              "[378561 rows x 9 columns]"
            ]
          },
          "metadata": {
            "tags": []
          },
          "execution_count": 9
        }
      ]
    },
    {
      "cell_type": "code",
      "metadata": {
        "id": "IGs4cQbwla7w"
      },
      "source": [
        "#spliting the Data\n",
        "X_train,X_test,y_train,y_test=split(X,y, test_size=0.3,random_state=1)"
      ],
      "execution_count": null,
      "outputs": []
    },
    {
      "cell_type": "code",
      "metadata": {
        "id": "AWEYuKdUleCM"
      },
      "source": [
        "#one_hot_encoder transformer\n",
        "class MyOneHotEncoder(TransformerMixin, BaseEstimator):\n",
        "    \n",
        "    def __init__(self):\n",
        "        self.ohe = OneHotEncoder(sparse=False, handle_unknown=\"ignore\")\n",
        "    \n",
        "    def fit(self, X, y=None):\n",
        "        self.ohe.fit(X[[\"category\",\"main_category\",\"currency\",\"country\"]])\n",
        "        return self\n",
        "    \n",
        "    def transform(self, X):\n",
        "        transformed_data = pd.DataFrame(self.ohe.transform(X[[\"category\",\"main_category\",\"currency\",\"country\"]]))\n",
        "        numerical_features = X.drop(columns=[\"category\",\"main_category\",\"currency\",\"country\"], axis=1)\n",
        "        \n",
        "        return np.concatenate([numerical_features,transformed_data], axis=1)\n",
        "    def get_feature_names(self):\n",
        "        pass"
      ],
      "execution_count": null,
      "outputs": []
    },
    {
      "cell_type": "code",
      "metadata": {
        "id": "EdE3av-aoFw4"
      },
      "source": [
        "my_ohe = MyOneHotEncoder()\n",
        "ss     = StandardScaler()\n",
        "\n",
        "my_Pipeline = Pipeline([(\"my_ohe\", my_ohe), (\"my_scaler\", ss)])\n",
        "\n",
        "X_train_scaled=my_Pipeline.fit_transform(X_train)\n",
        "X_test_scaled=my_Pipeline.transform(X_test)"
      ],
      "execution_count": null,
      "outputs": []
    },
    {
      "cell_type": "code",
      "metadata": {
        "id": "nD6IGvvjom1Z"
      },
      "source": [
        "my_xgb=XGBClassifier()\n",
        "rf=RandomForestClassifier()\n",
        "classifiers=[('my_xgb', my_xgb),('rf',rf)]\n",
        "\n",
        "clf_voting = VotingClassifier(estimators=classifiers,voting='hard')\n",
        "\n",
        "learning_rate=[0.05,0.1,0.15,0.2,0.25]\n",
        "max_depth=[2,3,5,7,10]\n",
        "n_estimators=[50,100,200]\n",
        "gamma=[0.0,0.1,0.2,0.3,0.4]\n",
        "scale_pos_weight=[1,3,5]\n",
        "max_features=[3,5,7,10]\n",
        "min_samples_split=[3,5,7,10,20]\n",
        "\n",
        "\n",
        "vote_params={'my_xgb__learning_rate': learning_rate,\n",
        "            'my_xgb__max_depth': max_depth,\n",
        "            'my_xgb__n_estimators': n_estimators,\n",
        "            'my_xgb__gamma': gamma,\n",
        "            'my_xgb__scale_pos_weight': scale_pos_weight,\n",
        "            'my_xgb__objective' : 'multi:softprob',\n",
        "            'rf__max_depth': max_depth,\n",
        "            'rf__n_estimators': n_estimators,\n",
        "            'rf__max_features': max_features,\n",
        "            'rf__min_samples_split': min_samples_split}\n",
        "\n",
        "\n",
        "rnd_model=RandomizedSearchCV(clf_voting,vote_params,n_iter=5,scoring='f1_micro',cv=5,n_jobs=-1)\n"
      ],
      "execution_count": null,
      "outputs": []
    },
    {
      "cell_type": "code",
      "metadata": {
        "id": "EPBY6AKStp1P"
      },
      "source": [
        "rnd_model.fit(X_train_scaled,y_train)"
      ],
      "execution_count": null,
      "outputs": []
    },
    {
      "cell_type": "code",
      "metadata": {
        "id": "TymAnjL7oiMj"
      },
      "source": [
        "y_pred=rnd_model.predict(X_test_scaled)"
      ],
      "execution_count": null,
      "outputs": []
    },
    {
      "cell_type": "code",
      "metadata": {
        "id": "QAzsMnbStvkh",
        "colab": {
          "base_uri": "https://localhost:8080/"
        },
        "outputId": "70f4ada8-0267-4871-9da9-e1e58ebbaf62"
      },
      "source": [
        "cm_f1_micro_weight =  confusion_matrix(y_true=y_test, y_pred=y_pred)\n",
        "print(cm_f1_micro_weight)\n",
        "print(classification_report(y_true=y_test, y_pred=y_pred))"
      ],
      "execution_count": null,
      "outputs": [
        {
          "output_type": "stream",
          "text": [
            "[[64815     0  6612]\n",
            " [ 1753     9   160]\n",
            " [ 8467     1 31752]]\n",
            "              precision    recall  f1-score   support\n",
            "\n",
            "      failed       0.86      0.91      0.89     71427\n",
            "       other       0.90      0.00      0.01      1922\n",
            "  successful       0.82      0.79      0.81     40220\n",
            "\n",
            "    accuracy                           0.85    113569\n",
            "   macro avg       0.86      0.57      0.57    113569\n",
            "weighted avg       0.85      0.85      0.84    113569\n",
            "\n"
          ],
          "name": "stdout"
        }
      ]
    }
  ]
}