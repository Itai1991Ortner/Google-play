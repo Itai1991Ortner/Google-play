{
  "nbformat": 4,
  "nbformat_minor": 0,
  "metadata": {
    "colab": {
      "name": "json_file_skyscanner.ipynb",
      "provenance": [],
      "collapsed_sections": [],
      "authorship_tag": "ABX9TyPB1KsUS2JT6++324EV63QC",
      "include_colab_link": true
    },
    "kernelspec": {
      "name": "python3",
      "display_name": "Python 3"
    },
    "language_info": {
      "name": "python"
    }
  },
  "cells": [
    {
      "cell_type": "markdown",
      "metadata": {
        "id": "view-in-github",
        "colab_type": "text"
      },
      "source": [
        "<a href=\"https://colab.research.google.com/github/Itai1991Ortner/Machine-Learning/blob/main/extreme_nested_json_file.ipynb\" target=\"_parent\"><img src=\"https://colab.research.google.com/assets/colab-badge.svg\" alt=\"Open In Colab\"/></a>"
      ]
    },
    {
      "cell_type": "code",
      "metadata": {
        "id": "2BOcrKvzLX9N"
      },
      "source": [
        "import pandas as pd\n",
        "import json\n",
        "from collections import defaultdict\n",
        "import os"
      ],
      "execution_count": 1,
      "outputs": []
    },
    {
      "cell_type": "code",
      "metadata": {
        "id": "tOsVMFqwLwBf"
      },
      "source": [
        "# loading the json file into a variable\n",
        "with open('COST_LIST_RUS_27052021_1918.json') as f:\n",
        "  json_data=json.load(f)"
      ],
      "execution_count": 4,
      "outputs": []
    },
    {
      "cell_type": "code",
      "metadata": {
        "id": "dLWwYQwZH9HF"
      },
      "source": [
        "# reccursion method that creates a huge list matrix that has 2 columns: 0 is all the keys and 1 is the values\n",
        "#everythins with seperation of '.' if the instance is dictionary type and ' ' if as list type\n",
        "fix_list=[]\n",
        "def normalize_json(json_data,prefix=''):\n",
        "  if isinstance(json_data,dict):\n",
        "    for dict_key,dict_val in json_data.items():\n",
        "      p='{}.{}'.format(prefix,dict_key)\n",
        "      normalize_json(dict_val,p)\n",
        "  elif isinstance(json_data,list):\n",
        "    for i,list_val in enumerate(json_data):\n",
        "      p='{}{}'.format(prefix,i)\n",
        "      normalize_json(list_val,p)\n",
        "  else:\n",
        "    fix_list.append(['{}'.format(prefix),json_data])\n",
        "\n",
        "  return fix_list\n",
        "  \n",
        "normalize_json(json_data)"
      ],
      "execution_count": null,
      "outputs": []
    },
    {
      "cell_type": "code",
      "metadata": {
        "id": "EHhAaReuMjRF"
      },
      "source": [
        "# this methods makes the larger list to more compactive\n",
        "# it makes prior list to two small lists contain the former key feature(flight) with the other dict keys\n",
        "# and the same flight key with the values of the dict by that we all can figure the connection between keys and values\n",
        "def find_index_keys_or_values(json_data):\n",
        "  index_keys,index_values=[],[]\n",
        "  for j in normalize_json(json_data):\n",
        "    index_keys.append(j[0].split('.')[1:])\n",
        "    index_values.append((j[0].split('.')[1],j[1]))\n",
        "\n",
        "  return index_keys,index_values\n",
        "\n",
        "\n",
        "index_keys,index_values=find_index_keys_or_values(json_data)"
      ],
      "execution_count": 9,
      "outputs": []
    },
    {
      "cell_type": "code",
      "metadata": {
        "colab": {
          "base_uri": "https://localhost:8080/",
          "height": 417
        },
        "id": "mXPuQFQf9rAG",
        "outputId": "2f07f819-8969-4902-c396-fe0804f6fd47"
      },
      "source": [
        "df_1=pd.DataFrame(index_keys,columns=['flight','date','type','grid_num','is_direct','last_col'])\n",
        "df_2=pd.DataFrame(index_values,columns=['Flight','val'])\n",
        "df=pd.concat([df_1,df_2],axis=1,join='inner').drop(columns=['Flight'],axis=1)\n",
        "df"
      ],
      "execution_count": 18,
      "outputs": [
        {
          "output_type": "execute_result",
          "data": {
            "text/html": [
              "<div>\n",
              "<style scoped>\n",
              "    .dataframe tbody tr th:only-of-type {\n",
              "        vertical-align: middle;\n",
              "    }\n",
              "\n",
              "    .dataframe tbody tr th {\n",
              "        vertical-align: top;\n",
              "    }\n",
              "\n",
              "    .dataframe thead th {\n",
              "        text-align: right;\n",
              "    }\n",
              "</style>\n",
              "<table border=\"1\" class=\"dataframe\">\n",
              "  <thead>\n",
              "    <tr style=\"text-align: right;\">\n",
              "      <th></th>\n",
              "      <th>flight</th>\n",
              "      <th>date</th>\n",
              "      <th>type</th>\n",
              "      <th>grid_num</th>\n",
              "      <th>is_direct</th>\n",
              "      <th>last_col</th>\n",
              "      <th>val</th>\n",
              "    </tr>\n",
              "  </thead>\n",
              "  <tbody>\n",
              "    <tr>\n",
              "      <th>0</th>\n",
              "      <td>AER/EKAT</td>\n",
              "      <td>2021-05</td>\n",
              "      <td>Traces</td>\n",
              "      <td>0</td>\n",
              "      <td>None</td>\n",
              "      <td>None</td>\n",
              "      <td>202105261132*I*VVO*ROV*20210529*ssev*S7</td>\n",
              "    </tr>\n",
              "    <tr>\n",
              "      <th>1</th>\n",
              "      <td>AER/EKAT</td>\n",
              "      <td>2021-05</td>\n",
              "      <td>Traces</td>\n",
              "      <td>1</td>\n",
              "      <td>None</td>\n",
              "      <td>None</td>\n",
              "      <td>202105262353*I*VVO*ROV*20210530*ssev*S7</td>\n",
              "    </tr>\n",
              "    <tr>\n",
              "      <th>2</th>\n",
              "      <td>AER/EKAT</td>\n",
              "      <td>2021-05</td>\n",
              "      <td>Traces</td>\n",
              "      <td>2</td>\n",
              "      <td>None</td>\n",
              "      <td>None</td>\n",
              "      <td>202105270630*I*VVO*ROV*20210531*ssev*S7</td>\n",
              "    </tr>\n",
              "    <tr>\n",
              "      <th>3</th>\n",
              "      <td>AER/EKAT</td>\n",
              "      <td>2021-05</td>\n",
              "      <td>PriceGrids</td>\n",
              "      <td>Grid00</td>\n",
              "      <td>DirectOutboundAvailable</td>\n",
              "      <td>None</td>\n",
              "      <td>False</td>\n",
              "    </tr>\n",
              "    <tr>\n",
              "      <th>4</th>\n",
              "      <td>AER/EKAT</td>\n",
              "      <td>2021-05</td>\n",
              "      <td>PriceGrids</td>\n",
              "      <td>Grid01</td>\n",
              "      <td>DirectOutboundAvailable</td>\n",
              "      <td>None</td>\n",
              "      <td>False</td>\n",
              "    </tr>\n",
              "    <tr>\n",
              "      <th>...</th>\n",
              "      <td>...</td>\n",
              "      <td>...</td>\n",
              "      <td>...</td>\n",
              "      <td>...</td>\n",
              "      <td>...</td>\n",
              "      <td>...</td>\n",
              "      <td>...</td>\n",
              "    </tr>\n",
              "    <tr>\n",
              "      <th>89995</th>\n",
              "      <td>VLAD/ROV</td>\n",
              "      <td>2022-05</td>\n",
              "      <td>PriceGrids</td>\n",
              "      <td>Grid026</td>\n",
              "      <td>DirectOutboundAvailable</td>\n",
              "      <td>None</td>\n",
              "      <td>False</td>\n",
              "    </tr>\n",
              "    <tr>\n",
              "      <th>89996</th>\n",
              "      <td>VLAD/ROV</td>\n",
              "      <td>2022-05</td>\n",
              "      <td>PriceGrids</td>\n",
              "      <td>Grid027</td>\n",
              "      <td>DirectOutboundAvailable</td>\n",
              "      <td>None</td>\n",
              "      <td>False</td>\n",
              "    </tr>\n",
              "    <tr>\n",
              "      <th>89997</th>\n",
              "      <td>VLAD/ROV</td>\n",
              "      <td>2022-05</td>\n",
              "      <td>PriceGrids</td>\n",
              "      <td>Grid028</td>\n",
              "      <td>DirectOutboundAvailable</td>\n",
              "      <td>None</td>\n",
              "      <td>False</td>\n",
              "    </tr>\n",
              "    <tr>\n",
              "      <th>89998</th>\n",
              "      <td>VLAD/ROV</td>\n",
              "      <td>2022-05</td>\n",
              "      <td>PriceGrids</td>\n",
              "      <td>Grid029</td>\n",
              "      <td>DirectOutboundAvailable</td>\n",
              "      <td>None</td>\n",
              "      <td>False</td>\n",
              "    </tr>\n",
              "    <tr>\n",
              "      <th>89999</th>\n",
              "      <td>VLAD/ROV</td>\n",
              "      <td>2022-05</td>\n",
              "      <td>PriceGrids</td>\n",
              "      <td>Grid030</td>\n",
              "      <td>DirectOutboundAvailable</td>\n",
              "      <td>None</td>\n",
              "      <td>False</td>\n",
              "    </tr>\n",
              "  </tbody>\n",
              "</table>\n",
              "<p>90000 rows × 7 columns</p>\n",
              "</div>"
            ],
            "text/plain": [
              "         flight     date  ... last_col                                      val\n",
              "0      AER/EKAT  2021-05  ...     None  202105261132*I*VVO*ROV*20210529*ssev*S7\n",
              "1      AER/EKAT  2021-05  ...     None  202105262353*I*VVO*ROV*20210530*ssev*S7\n",
              "2      AER/EKAT  2021-05  ...     None  202105270630*I*VVO*ROV*20210531*ssev*S7\n",
              "3      AER/EKAT  2021-05  ...     None                                    False\n",
              "4      AER/EKAT  2021-05  ...     None                                    False\n",
              "...         ...      ...  ...      ...                                      ...\n",
              "89995  VLAD/ROV  2022-05  ...     None                                    False\n",
              "89996  VLAD/ROV  2022-05  ...     None                                    False\n",
              "89997  VLAD/ROV  2022-05  ...     None                                    False\n",
              "89998  VLAD/ROV  2022-05  ...     None                                    False\n",
              "89999  VLAD/ROV  2022-05  ...     None                                    False\n",
              "\n",
              "[90000 rows x 7 columns]"
            ]
          },
          "metadata": {
            "tags": []
          },
          "execution_count": 18
        }
      ]
    },
    {
      "cell_type": "code",
      "metadata": {
        "id": "JLGWWja5N89a"
      },
      "source": [
        "# def list_to_dict_again(index_keys):\n",
        "#   rr=[]\n",
        "#   for i in range(len(index_keys)-1):\n",
        "#     if index_keys[i][0]==index_keys[i+1][0]:\n",
        "#       rr.append((index_keys[i][0],index_keys[i][1:]))\n",
        "\n",
        "#   d = defaultdict(list)\n",
        "#   for i,j in rr:\n",
        "#     d[i].extend(j)\n",
        "#   return d\n",
        "# index_keys_sep=list_to_dict_again(index_keys)"
      ],
      "execution_count": null,
      "outputs": []
    }
  ]
}