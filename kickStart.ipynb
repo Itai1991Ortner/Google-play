{
  "nbformat": 4,
  "nbformat_minor": 0,
  "metadata": {
    "colab": {
      "name": "kickStart.ipynb",
      "provenance": [],
      "collapsed_sections": [],
      "toc_visible": true,
      "mount_file_id": "1e0crUZc3eqlT59oDlb7-Ew8i2_4_q4ox",
      "authorship_tag": "ABX9TyODvHjHqk+A6wPK3yvpY4Qz",
      "include_colab_link": true
    },
    "kernelspec": {
      "display_name": "Python 3",
      "name": "python3"
    }
  },
  "cells": [
    {
      "cell_type": "markdown",
      "metadata": {
        "id": "view-in-github",
        "colab_type": "text"
      },
      "source": [
        "<a href=\"https://colab.research.google.com/github/Itai1991Ortner/Machine-Learning/blob/main/kickStart.ipynb\" target=\"_parent\"><img src=\"https://colab.research.google.com/assets/colab-badge.svg\" alt=\"Open In Colab\"/></a>"
      ]
    },
    {
      "cell_type": "markdown",
      "metadata": {
        "id": "mElhWY4XXH-A"
      },
      "source": [
        "# Imports"
      ]
    },
    {
      "cell_type": "code",
      "metadata": {
        "id": "N8Y104q3baoA"
      },
      "source": [
        "import pandas as pd\n",
        "import numpy as np\n",
        "import seaborn as sns\n",
        "import matplotlib.pyplot as plt\n",
        "%matplotlib inline\n",
        "from sklearn.ensemble import RandomForestClassifier\n",
        "from datetime import datetime\n",
        "from sklearn.pipeline import Pipeline, FeatureUnion\n",
        "from sklearn.base import TransformerMixin, BaseEstimator\n",
        "from sklearn.preprocessing import StandardScaler, OneHotEncoder\n",
        "from sklearn.model_selection import train_test_split as split ,GridSearchCV,RandomizedSearchCV\n",
        "from sklearn.metrics import f1_score, accuracy_score, confusion_matrix, classification_report\n",
        "from xgboost import XGBClassifier\n",
        "from sklearn.decomposition import PCA\n",
        "from sklearn.ensemble import VotingClassifier\n",
        "from sklearn.mixture import GaussianMixture\n",
        "from sklearn.utils import resample"
      ],
      "execution_count": 13,
      "outputs": []
    },
    {
      "cell_type": "code",
      "metadata": {
        "colab": {
          "base_uri": "https://localhost:8080/"
        },
        "id": "aY8WF-ldCwFN",
        "outputId": "d4637f6c-efb9-4d71-8aa8-ce0a5d5efe50"
      },
      "source": [
        "from google.colab import drive\n",
        "drive.mount('/content/drive')"
      ],
      "execution_count": 2,
      "outputs": [
        {
          "output_type": "stream",
          "text": [
            "Drive already mounted at /content/drive; to attempt to forcibly remount, call drive.mount(\"/content/drive\", force_remount=True).\n"
          ],
          "name": "stdout"
        }
      ]
    },
    {
      "cell_type": "code",
      "metadata": {
        "id": "DmCd92VpAl4D"
      },
      "source": [
        "my_path='/content/drive/MyDrive/kickstart/ks-projects-201801.csv'\n",
        "df=pd.read_csv(my_path,parse_dates=[\"deadline\",\"launched\"])"
      ],
      "execution_count": 14,
      "outputs": []
    },
    {
      "cell_type": "code",
      "metadata": {
        "colab": {
          "background_save": true
        },
        "id": "FVFuSOj7Cv6U",
        "outputId": "e94f125c-6a60-491c-e15c-fa1ec7eb4162"
      },
      "source": [
        "# create a map of features - to understand the content better\n",
        "def table_info(df):\n",
        "    print(f\"Dataset Shape: {df.shape}\")\n",
        "    first_check = pd.DataFrame(df.dtypes,columns=['dtypes'])\n",
        "    first_check = first_check.reset_index()\n",
        "    first_check['Name'] = first_check['index']\n",
        "    first_check = first_check[['Name','dtypes']]\n",
        "    first_check['isnull'] = df.isnull().sum().values    \n",
        "    first_check['num_Uniques'] = df.nunique().values\n",
        "\n",
        "    return first_check\n",
        "\n",
        "#present the table above\n",
        "table_info(df)"
      ],
      "execution_count": null,
      "outputs": [
        {
          "output_type": "stream",
          "text": [
            "Dataset Shape: (378661, 15)\n"
          ],
          "name": "stdout"
        },
        {
          "output_type": "execute_result",
          "data": {
            "text/html": [
              "<div>\n",
              "<style scoped>\n",
              "    .dataframe tbody tr th:only-of-type {\n",
              "        vertical-align: middle;\n",
              "    }\n",
              "\n",
              "    .dataframe tbody tr th {\n",
              "        vertical-align: top;\n",
              "    }\n",
              "\n",
              "    .dataframe thead th {\n",
              "        text-align: right;\n",
              "    }\n",
              "</style>\n",
              "<table border=\"1\" class=\"dataframe\">\n",
              "  <thead>\n",
              "    <tr style=\"text-align: right;\">\n",
              "      <th></th>\n",
              "      <th>Name</th>\n",
              "      <th>dtypes</th>\n",
              "      <th>isnull</th>\n",
              "      <th>num_Uniques</th>\n",
              "    </tr>\n",
              "  </thead>\n",
              "  <tbody>\n",
              "    <tr>\n",
              "      <th>0</th>\n",
              "      <td>ID</td>\n",
              "      <td>int64</td>\n",
              "      <td>0</td>\n",
              "      <td>378661</td>\n",
              "    </tr>\n",
              "    <tr>\n",
              "      <th>1</th>\n",
              "      <td>name</td>\n",
              "      <td>object</td>\n",
              "      <td>4</td>\n",
              "      <td>375764</td>\n",
              "    </tr>\n",
              "    <tr>\n",
              "      <th>2</th>\n",
              "      <td>category</td>\n",
              "      <td>object</td>\n",
              "      <td>0</td>\n",
              "      <td>159</td>\n",
              "    </tr>\n",
              "    <tr>\n",
              "      <th>3</th>\n",
              "      <td>main_category</td>\n",
              "      <td>object</td>\n",
              "      <td>0</td>\n",
              "      <td>15</td>\n",
              "    </tr>\n",
              "    <tr>\n",
              "      <th>4</th>\n",
              "      <td>currency</td>\n",
              "      <td>object</td>\n",
              "      <td>0</td>\n",
              "      <td>14</td>\n",
              "    </tr>\n",
              "    <tr>\n",
              "      <th>5</th>\n",
              "      <td>deadline</td>\n",
              "      <td>datetime64[ns]</td>\n",
              "      <td>0</td>\n",
              "      <td>3164</td>\n",
              "    </tr>\n",
              "    <tr>\n",
              "      <th>6</th>\n",
              "      <td>goal</td>\n",
              "      <td>float64</td>\n",
              "      <td>0</td>\n",
              "      <td>8353</td>\n",
              "    </tr>\n",
              "    <tr>\n",
              "      <th>7</th>\n",
              "      <td>launched</td>\n",
              "      <td>datetime64[ns]</td>\n",
              "      <td>0</td>\n",
              "      <td>378089</td>\n",
              "    </tr>\n",
              "    <tr>\n",
              "      <th>8</th>\n",
              "      <td>pledged</td>\n",
              "      <td>float64</td>\n",
              "      <td>0</td>\n",
              "      <td>62130</td>\n",
              "    </tr>\n",
              "    <tr>\n",
              "      <th>9</th>\n",
              "      <td>state</td>\n",
              "      <td>object</td>\n",
              "      <td>0</td>\n",
              "      <td>6</td>\n",
              "    </tr>\n",
              "    <tr>\n",
              "      <th>10</th>\n",
              "      <td>backers</td>\n",
              "      <td>int64</td>\n",
              "      <td>0</td>\n",
              "      <td>3963</td>\n",
              "    </tr>\n",
              "    <tr>\n",
              "      <th>11</th>\n",
              "      <td>country</td>\n",
              "      <td>object</td>\n",
              "      <td>0</td>\n",
              "      <td>23</td>\n",
              "    </tr>\n",
              "    <tr>\n",
              "      <th>12</th>\n",
              "      <td>usd pledged</td>\n",
              "      <td>float64</td>\n",
              "      <td>3797</td>\n",
              "      <td>95455</td>\n",
              "    </tr>\n",
              "    <tr>\n",
              "      <th>13</th>\n",
              "      <td>usd_pledged_real</td>\n",
              "      <td>float64</td>\n",
              "      <td>0</td>\n",
              "      <td>106065</td>\n",
              "    </tr>\n",
              "    <tr>\n",
              "      <th>14</th>\n",
              "      <td>usd_goal_real</td>\n",
              "      <td>float64</td>\n",
              "      <td>0</td>\n",
              "      <td>50339</td>\n",
              "    </tr>\n",
              "  </tbody>\n",
              "</table>\n",
              "</div>"
            ],
            "text/plain": [
              "                Name          dtypes  isnull  num_Uniques\n",
              "0                 ID           int64       0       378661\n",
              "1               name          object       4       375764\n",
              "2           category          object       0          159\n",
              "3      main_category          object       0           15\n",
              "4           currency          object       0           14\n",
              "5           deadline  datetime64[ns]       0         3164\n",
              "6               goal         float64       0         8353\n",
              "7           launched  datetime64[ns]       0       378089\n",
              "8            pledged         float64       0        62130\n",
              "9              state          object       0            6\n",
              "10           backers           int64       0         3963\n",
              "11           country          object       0           23\n",
              "12       usd pledged         float64    3797        95455\n",
              "13  usd_pledged_real         float64       0       106065\n",
              "14     usd_goal_real         float64       0        50339"
            ]
          },
          "metadata": {
            "tags": []
          },
          "execution_count": 0
        }
      ]
    },
    {
      "cell_type": "code",
      "metadata": {
        "id": "6Q5skLZuEr01"
      },
      "source": [
        "#base cleaning\n",
        "df=df.rename(lambda col: col.strip(),axis=1)\n",
        "df.columns = df.columns.str.replace(' ','_')\n",
        "\n",
        "df[\"dates_gap\"]=(df[\"deadline\"]-df[\"launched\"]).dt.days\n",
        "df=df.drop(columns=['ID','name','deadline','launched',\"usd_pledged\",'goal','usd_goal_real'], axis=1)"
      ],
      "execution_count": 15,
      "outputs": []
    },
    {
      "cell_type": "markdown",
      "metadata": {
        "id": "SNykMcQIXOgC"
      },
      "source": [
        "# EDA"
      ]
    },
    {
      "cell_type": "code",
      "metadata": {
        "colab": {
          "base_uri": "https://localhost:8080/",
          "height": 608
        },
        "id": "IiUkJHC1GKE9",
        "outputId": "f6002ae9-c6a2-47af-d96d-db494c8b07c3"
      },
      "source": [
        "#target distribution\n",
        "figure = plt.figure(figsize = (20,10))\n",
        "df[\"state\"].value_counts().plot.pie()\n",
        "plt.title('Target options - imbalance Data')"
      ],
      "execution_count": null,
      "outputs": [
        {
          "output_type": "execute_result",
          "data": {
            "text/plain": [
              "Text(0.5, 1.0, 'Target options - imbalance Data')"
            ]
          },
          "metadata": {
            "tags": []
          },
          "execution_count": 9
        },
        {
          "output_type": "display_data",
          "data": {
            "image/png": "[encoded data removed]",
            "text/plain": [
              "<Figure size 1440x720 with 1 Axes>"
            ]
          },
          "metadata": {
            "tags": []
          }
        }
      ]
    },
    {
      "cell_type": "code",
      "metadata": {
        "colab": {
          "base_uri": "https://localhost:8080/",
          "height": 500
        },
        "id": "19IrvvGaEMHv",
        "outputId": "b1d2f89c-a647-4e9d-edb4-54cf790d3229"
      },
      "source": [
        "#correlation heatmap plot\n",
        "plt.figure(figsize=(8,8))\n",
        "correl=df.corr()\n",
        "sns.heatmap(correl,annot=True,cmap='Blues')\n",
        "plt.title('Correlation cmap  features')\n",
        "plt.show()"
      ],
      "execution_count": 30,
      "outputs": [
        {
          "output_type": "display_data",
          "data": {
            "image/png": "[encoded data removed]",
            "text/plain": [
              "<Figure size 576x576 with 2 Axes>"
            ]
          },
          "metadata": {
            "tags": [],
            "needs_background": "light"
          }
        }
      ]
    },
    {
      "cell_type": "code",
      "metadata": {
        "colab": {
          "base_uri": "https://localhost:8080/",
          "height": 307
        },
        "id": "7BPD5emA62SG",
        "outputId": "119bb896-3dfd-4af7-d466-22c902e303da"
      },
      "source": [
        "#plotting connection between backers and pledged\n",
        "sns.scatterplot(data=df, x='backers',y='pledged')"
      ],
      "execution_count": 31,
      "outputs": [
        {
          "output_type": "execute_result",
          "data": {
            "text/plain": [
              "<matplotlib.axes._subplots.AxesSubplot at 0x7f580eed3f90>"
            ]
          },
          "metadata": {
            "tags": []
          },
          "execution_count": 31
        },
        {
          "output_type": "display_data",
          "data": {
            "image/png": "[encoded data removed]",
            "text/plain": [
              "<Figure size 432x288 with 1 Axes>"
            ]
          },
          "metadata": {
            "tags": [],
            "needs_background": "light"
          }
        }
      ]
    },
    {
      "cell_type": "markdown",
      "metadata": {
        "id": "9_IvF9y9XSYb"
      },
      "source": [
        "# Preprocessing"
      ]
    },
    {
      "cell_type": "code",
      "metadata": {
        "id": "ssSj2qvJK9wX"
      },
      "source": [
        "#replacing and diminishing number of classes \n",
        "df[\"state\"]=df[\"state\"].replace({'canceled':'failed'}).replace({'live':'other'}).replace({'undefined':'other'}).replace({'suspended':'failed'})"
      ],
      "execution_count": 16,
      "outputs": []
    },
    {
      "cell_type": "code",
      "metadata": {
        "colab": {
          "base_uri": "https://localhost:8080/",
          "height": 350
        },
        "id": "bXEoFoyBJ4DJ",
        "outputId": "29eea2aa-c602-4862-f97a-b2089e7bee79"
      },
      "source": [
        "#presenting the imbalance challange barplot\n",
        "figure = plt.figure(figsize = (8,5))\n",
        "sns.countplot(data=df,x='state',palette='Set2')\n",
        "plt.title('Imblance Data')\n",
        "plt.show()"
      ],
      "execution_count": null,
      "outputs": [
        {
          "output_type": "display_data",
          "data": {
            "image/png": "[encoded data removed]",
            "text/plain": [
              "<Figure size 576x360 with 1 Axes>"
            ]
          },
          "metadata": {
            "tags": []
          }
        }
      ]
    },
    {
      "cell_type": "code",
      "metadata": {
        "id": "xTy8--22I8ia"
      },
      "source": [
        "#initiating X and y\n",
        "X=df.drop(columns=[\"state\",'currency','country'])\n",
        "X_numeric=df.drop(columns=[\"category\",\"main_category\",\"currency\",\"country\",\"state\"])\n",
        "y=df[\"state\"]"
      ],
      "execution_count": 17,
      "outputs": []
    },
    {
      "cell_type": "code",
      "metadata": {
        "colab": {
          "base_uri": "https://localhost:8080/",
          "height": 621
        },
        "id": "NsrXC0YaLxy0",
        "outputId": "1fbc4e85-cf90-4791-d795-0722fde4d2b1"
      },
      "source": [
        "gmm = GaussianMixture(n_components=2).fit(X_numeric)\n",
        "samp=gmm.score_samples(X_numeric)\n",
        "plt.figure(figsize=(12,10))\n",
        "sns.kdeplot(data=df,x=np.exp(samp),hue=\"state\", fill=True, multiple=\"stack\")\n",
        "plt.title(\"Gaussian Mixture Model on kickstart states\")\n",
        "plt.show()"
      ],
      "execution_count": null,
      "outputs": [
        {
          "output_type": "display_data",
          "data": {
            "image/png": "[encoded data removed]",
            "text/plain": [
              "<Figure size 864x720 with 1 Axes>"
            ]
          },
          "metadata": {
            "tags": []
          }
        }
      ]
    },
    {
      "cell_type": "code",
      "metadata": {
        "colab": {
          "base_uri": "https://localhost:8080/",
          "height": 419
        },
        "id": "wh6BzDJsIqTM",
        "outputId": "74573398-6813-4aab-f94b-cd45063190ce"
      },
      "source": [
        "# method that use PCA to remove outliers\n",
        "def remove_outliers(X,y,X_numeric, n_outliers):\n",
        "  out_X=X.copy()\n",
        "  out_y=y.copy()\n",
        "\n",
        "  pca = PCA(n_components=3)\n",
        "\n",
        "  pca.fit(X_numeric)\n",
        "  X_reconstructed = pca.inverse_transform(pca.transform(X_numeric))\n",
        "  X_reconstructed = pd.DataFrame(X_reconstructed,index=X_numeric.index,columns = X_numeric.columns)\n",
        "  errors=((X_reconstructed - X_numeric)**2).sum(axis=1)\n",
        "    \n",
        "  X_new=pd.concat([out_X,errors.rename(\"X_reconstructed\")],axis=1)\n",
        "  X_new=X_new.sort_values(ascending=False,by=\"X_reconstructed\")\n",
        "  X_new=X_new.iloc[:-1*n_outliers,:]\n",
        "  y_new=out_y.iloc[X_new.index]\n",
        "\n",
        "  return X_new,y_new\n",
        "\n",
        "\n",
        "#executing the outlier removal\n",
        "X,y=remove_outliers(X,y,X_numeric,100)\n",
        "X"
      ],
      "execution_count": 18,
      "outputs": [
        {
          "output_type": "execute_result",
          "data": {
            "text/html": [
              "<div>\n",
              "<style scoped>\n",
              "    .dataframe tbody tr th:only-of-type {\n",
              "        vertical-align: middle;\n",
              "    }\n",
              "\n",
              "    .dataframe tbody tr th {\n",
              "        vertical-align: top;\n",
              "    }\n",
              "\n",
              "    .dataframe thead th {\n",
              "        text-align: right;\n",
              "    }\n",
              "</style>\n",
              "<table border=\"1\" class=\"dataframe\">\n",
              "  <thead>\n",
              "    <tr style=\"text-align: right;\">\n",
              "      <th></th>\n",
              "      <th>category</th>\n",
              "      <th>main_category</th>\n",
              "      <th>pledged</th>\n",
              "      <th>backers</th>\n",
              "      <th>usd_pledged_real</th>\n",
              "      <th>dates_gap</th>\n",
              "      <th>X_reconstructed</th>\n",
              "    </tr>\n",
              "  </thead>\n",
              "  <tbody>\n",
              "    <tr>\n",
              "      <th>319002</th>\n",
              "      <td>Publishing</td>\n",
              "      <td>Publishing</td>\n",
              "      <td>0.00</td>\n",
              "      <td>0</td>\n",
              "      <td>0.00</td>\n",
              "      <td>16738</td>\n",
              "      <td>2.790408e+08</td>\n",
              "    </tr>\n",
              "    <tr>\n",
              "      <th>2842</th>\n",
              "      <td>Film &amp; Video</td>\n",
              "      <td>Film &amp; Video</td>\n",
              "      <td>0.00</td>\n",
              "      <td>0</td>\n",
              "      <td>0.00</td>\n",
              "      <td>14866</td>\n",
              "      <td>2.200035e+08</td>\n",
              "    </tr>\n",
              "    <tr>\n",
              "      <th>48147</th>\n",
              "      <td>Art</td>\n",
              "      <td>Art</td>\n",
              "      <td>0.00</td>\n",
              "      <td>0</td>\n",
              "      <td>0.00</td>\n",
              "      <td>14834</td>\n",
              "      <td>2.190552e+08</td>\n",
              "    </tr>\n",
              "    <tr>\n",
              "      <th>94579</th>\n",
              "      <td>Theater</td>\n",
              "      <td>Theater</td>\n",
              "      <td>0.00</td>\n",
              "      <td>0</td>\n",
              "      <td>0.00</td>\n",
              "      <td>14760</td>\n",
              "      <td>2.168702e+08</td>\n",
              "    </tr>\n",
              "    <tr>\n",
              "      <th>75397</th>\n",
              "      <td>Film &amp; Video</td>\n",
              "      <td>Film &amp; Video</td>\n",
              "      <td>0.00</td>\n",
              "      <td>0</td>\n",
              "      <td>0.00</td>\n",
              "      <td>14749</td>\n",
              "      <td>2.165464e+08</td>\n",
              "    </tr>\n",
              "    <tr>\n",
              "      <th>...</th>\n",
              "      <td>...</td>\n",
              "      <td>...</td>\n",
              "      <td>...</td>\n",
              "      <td>...</td>\n",
              "      <td>...</td>\n",
              "      <td>...</td>\n",
              "      <td>...</td>\n",
              "    </tr>\n",
              "    <tr>\n",
              "      <th>59402</th>\n",
              "      <td>Tabletop Games</td>\n",
              "      <td>Games</td>\n",
              "      <td>27127.84</td>\n",
              "      <td>1186</td>\n",
              "      <td>27127.84</td>\n",
              "      <td>33</td>\n",
              "      <td>6.392721e-02</td>\n",
              "    </tr>\n",
              "    <tr>\n",
              "      <th>328696</th>\n",
              "      <td>Tabletop Games</td>\n",
              "      <td>Games</td>\n",
              "      <td>154609.99</td>\n",
              "      <td>4451</td>\n",
              "      <td>154609.99</td>\n",
              "      <td>33</td>\n",
              "      <td>6.168709e-02</td>\n",
              "    </tr>\n",
              "    <tr>\n",
              "      <th>92333</th>\n",
              "      <td>Design</td>\n",
              "      <td>Design</td>\n",
              "      <td>265397.00</td>\n",
              "      <td>3316</td>\n",
              "      <td>406888.36</td>\n",
              "      <td>34</td>\n",
              "      <td>6.032452e-02</td>\n",
              "    </tr>\n",
              "    <tr>\n",
              "      <th>329017</th>\n",
              "      <td>Video Games</td>\n",
              "      <td>Games</td>\n",
              "      <td>39061.02</td>\n",
              "      <td>1652</td>\n",
              "      <td>65722.78</td>\n",
              "      <td>33</td>\n",
              "      <td>6.010816e-02</td>\n",
              "    </tr>\n",
              "    <tr>\n",
              "      <th>256608</th>\n",
              "      <td>Tabletop Games</td>\n",
              "      <td>Games</td>\n",
              "      <td>95273.84</td>\n",
              "      <td>1912</td>\n",
              "      <td>95273.84</td>\n",
              "      <td>33</td>\n",
              "      <td>5.995281e-02</td>\n",
              "    </tr>\n",
              "  </tbody>\n",
              "</table>\n",
              "<p>378561 rows × 7 columns</p>\n",
              "</div>"
            ],
            "text/plain": [
              "              category main_category  ...  dates_gap  X_reconstructed\n",
              "319002      Publishing    Publishing  ...      16738     2.790408e+08\n",
              "2842      Film & Video  Film & Video  ...      14866     2.200035e+08\n",
              "48147              Art           Art  ...      14834     2.190552e+08\n",
              "94579          Theater       Theater  ...      14760     2.168702e+08\n",
              "75397     Film & Video  Film & Video  ...      14749     2.165464e+08\n",
              "...                ...           ...  ...        ...              ...\n",
              "59402   Tabletop Games         Games  ...         33     6.392721e-02\n",
              "328696  Tabletop Games         Games  ...         33     6.168709e-02\n",
              "92333           Design        Design  ...         34     6.032452e-02\n",
              "329017     Video Games         Games  ...         33     6.010816e-02\n",
              "256608  Tabletop Games         Games  ...         33     5.995281e-02\n",
              "\n",
              "[378561 rows x 7 columns]"
            ]
          },
          "metadata": {
            "tags": []
          },
          "execution_count": 18
        }
      ]
    },
    {
      "cell_type": "markdown",
      "metadata": {
        "id": "qcuYxbqcqSxh"
      },
      "source": [
        "# Pipeline"
      ]
    },
    {
      "cell_type": "code",
      "metadata": {
        "id": "IGs4cQbwla7w"
      },
      "source": [
        "#spliting the Data\n",
        "X_train,X_test,y_train,y_test=split(X,y, test_size=0.3,random_state=1)"
      ],
      "execution_count": 19,
      "outputs": []
    },
    {
      "cell_type": "code",
      "metadata": {
        "id": "AWEYuKdUleCM"
      },
      "source": [
        "#one_hot_encoder transformer\n",
        "class MyOneHotEncoder(TransformerMixin, BaseEstimator):\n",
        "    \n",
        "    def __init__(self):\n",
        "        self.ohe = OneHotEncoder(sparse=False, handle_unknown=\"ignore\")\n",
        "    \n",
        "    def fit(self, X, y=None):\n",
        "        self.ohe.fit(X[[\"category\",\"main_category\"]])\n",
        "        return self\n",
        "    \n",
        "    def transform(self, X):\n",
        "        transformed_data = pd.DataFrame(self.ohe.transform(X[[\"category\",\"main_category\"]]))\n",
        "        numerical_features = X.drop(columns=[\"category\",\"main_category\"], axis=1)\n",
        "        \n",
        "        return np.concatenate([numerical_features,transformed_data], axis=1)\n",
        "    def get_feature_names(self):\n",
        "        pass"
      ],
      "execution_count": 20,
      "outputs": []
    },
    {
      "cell_type": "code",
      "metadata": {
        "id": "EdE3av-aoFw4"
      },
      "source": [
        "my_ohe = MyOneHotEncoder()\n",
        "ss     = StandardScaler()\n",
        "\n",
        "my_Pipeline = Pipeline([(\"my_ohe\", my_ohe), (\"my_scaler\", ss)])\n",
        "\n",
        "X_train_scaled=my_Pipeline.fit_transform(X_train)\n",
        "X_test_scaled=my_Pipeline.transform(X_test)"
      ],
      "execution_count": 21,
      "outputs": []
    },
    {
      "cell_type": "markdown",
      "metadata": {
        "id": "v0y0xgxs1tJ7"
      },
      "source": [
        "# Smote"
      ]
    },
    {
      "cell_type": "code",
      "metadata": {
        "id": "OybwLtvLD6Zd"
      },
      "source": [
        "from warnings import simplefilter\n",
        "simplefilter(action='ignore', category=FutureWarning)"
      ],
      "execution_count": 22,
      "outputs": []
    },
    {
      "cell_type": "code",
      "metadata": {
        "id": "Rxin7s6RCl-q"
      },
      "source": [
        "#dealing with imbalance by oversample the \"other\" class with SMOTE\n",
        "from imblearn.over_sampling import RandomOverSampler\n",
        "from imblearn.over_sampling import SMOTE, ADASYN\n",
        "oversample = RandomOverSampler(random_state=0)\n",
        "X_train_smote, y_train = SMOTE().fit_resample(X_train_scaled, y_train)"
      ],
      "execution_count": 23,
      "outputs": []
    },
    {
      "cell_type": "markdown",
      "metadata": {
        "id": "EwQ7kQ6B1zm-"
      },
      "source": [
        "# Model"
      ]
    },
    {
      "cell_type": "code",
      "metadata": {
        "id": "nD6IGvvjom1Z"
      },
      "source": [
        "my_xgb=XGBClassifier()\n",
        "\n",
        "learning_rate=[0.05,0.1,0.15,0.2,0.25]\n",
        "max_depth=[2,3,5,7,10]\n",
        "n_estimators=[50,100,200]\n",
        "gamma=[0.0,0.1,0.2,0.3,0.4]\n",
        "scale_pos_weight=[1,3,5]\n",
        "max_features=[3,5,7,10]\n",
        "min_samples_split=[3,5,7,10,20]\n",
        "subsample=[0.5,0.8,1]\n",
        "\n",
        "\n",
        "xgb_params={'learning_rate': learning_rate,\n",
        "            'max_depth': max_depth,\n",
        "            'n_estimators': n_estimators,\n",
        "            'gamma': gamma,\n",
        "            'subsample':subsample,\n",
        "            'scale_pos_weight': scale_pos_weight,\n",
        "            'objective' : 'multi:softprob'}\n",
        "\n",
        "\n",
        "rnd_model=RandomizedSearchCV(my_xgb,xgb_params,n_iter=5,scoring='f1_micro',cv=3,verbose=2)\n"
      ],
      "execution_count": 26,
      "outputs": []
    },
    {
      "cell_type": "code",
      "metadata": {
        "id": "EPBY6AKStp1P"
      },
      "source": [
        "rnd_model.fit(X_train_smote,y_train)"
      ],
      "execution_count": null,
      "outputs": []
    },
    {
      "cell_type": "code",
      "metadata": {
        "id": "TymAnjL7oiMj"
      },
      "source": [
        "y_pred=rnd_model.predict(X_test_scaled)"
      ],
      "execution_count": 28,
      "outputs": []
    },
    {
      "cell_type": "markdown",
      "metadata": {
        "id": "wSCRXjIO24c3"
      },
      "source": [
        "# Results"
      ]
    },
    {
      "cell_type": "code",
      "metadata": {
        "id": "QAzsMnbStvkh",
        "colab": {
          "base_uri": "https://localhost:8080/"
        },
        "outputId": "11fd19c5-ef80-4beb-aeaa-cbf49ef44734"
      },
      "source": [
        "cm_f1_micro_weight =  confusion_matrix(y_true=y_test, y_pred=y_pred)\n",
        "print(cm_f1_micro_weight)\n",
        "print(classification_report(y_true=y_test, y_pred=y_pred))"
      ],
      "execution_count": 29,
      "outputs": [
        {
          "output_type": "stream",
          "text": [
            "[[58885  1924 10618]\n",
            " [  604  1121   197]\n",
            " [ 3771   239 36210]]\n",
            "              precision    recall  f1-score   support\n",
            "\n",
            "      failed       0.93      0.82      0.87     71427\n",
            "       other       0.34      0.58      0.43      1922\n",
            "  successful       0.77      0.90      0.83     40220\n",
            "\n",
            "    accuracy                           0.85    113569\n",
            "   macro avg       0.68      0.77      0.71    113569\n",
            "weighted avg       0.86      0.85      0.85    113569\n",
            "\n"
          ],
          "name": "stdout"
        }
      ]
    },
    {
      "cell_type": "markdown",
      "metadata": {
        "id": "vZwBjVFQ2Lb_"
      },
      "source": [
        "# Another  way to deal with Imbalance data"
      ]
    },
    {
      "cell_type": "code",
      "metadata": {
        "id": "X18GG9Nt2MZr"
      },
      "source": [
        "# also tried oversampling the data by just multypling the other samples as is - the results of the model were'nt pretty good\n",
        "def overSampling(df):\n",
        "  other_samples=df[df['state']=='other']\n",
        "  df_minority=resample(other_samples,replace=True,n_samples=(len(other_samples)*5))\n",
        "  df_majority=df[df['state']!='other']\n",
        "  return pd.concat([df_majority,df_minority])\n",
        "\n",
        "df=overSampling(df)\n",
        "#now let's shuffle the data\n",
        "df = df.sample(frac = 1)"
      ],
      "execution_count": null,
      "outputs": []
    }
  ]
}