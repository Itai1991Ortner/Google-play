{
  "nbformat": 4,
  "nbformat_minor": 0,
  "metadata": {
    "colab": {
      "name": "Google play Itai.ipynb",
      "provenance": [],
      "collapsed_sections": [],
      "toc_visible": true,
      "mount_file_id": "1RajjBM7PgYEyVojUh7A4QNVyd64QMlqV",
      "authorship_tag": "ABX9TyO8UROlF9UMHIKUHzz4v+1S",
      "include_colab_link": true
    },
    "kernelspec": {
      "name": "python3",
      "display_name": "Python 3"
    }
  },
  "cells": [
    {
      "cell_type": "markdown",
      "metadata": {
        "id": "view-in-github",
        "colab_type": "text"
      },
      "source": [
        "<a href=\"https://colab.research.google.com/github/Itai1991Ortner/Google-Play/blob/main/Google_play_Itai.ipynb\" target=\"_parent\"><img src=\"https://colab.research.google.com/assets/colab-badge.svg\" alt=\"Open In Colab\"/></a>"
      ]
    },
    {
      "cell_type": "markdown",
      "metadata": {
        "id": "mpDvbYWUCV8e"
      },
      "source": [
        "# Imports"
      ]
    },
    {
      "cell_type": "code",
      "metadata": {
        "id": "baqN-ug3uerY"
      },
      "source": [
        "import pandas as pd\r\n",
        "import numpy as np\r\n",
        "import matplotlib.pyplot as plt\r\n",
        "import seaborn as sns\r\n",
        "%matplotlib inline\r\n",
        "from sklearn.metrics import mean_absolute_error, mean_squared_error\r\n",
        "from sklearn.model_selection import train_test_split as split\r\n",
        "from sklearn.model_selection import RandomizedSearchCV\r\n",
        "from sklearn.feature_selection import SelectKBest, chi2\r\n",
        "from datetime import datetime\r\n",
        "import regex as re\r\n",
        "from sklearn.pipeline import Pipeline\r\n",
        "import xgboost as xgb\r\n",
        "from sklearn.preprocessing import OneHotEncoder\r\n",
        "from sklearn.base import TransformerMixin, BaseEstimator\r\n",
        "from datetime import datetime\r\n",
        "from datetime import timedelta\r\n",
        "from sklearn.ensemble import RandomForestRegressor"
      ],
      "execution_count": 22,
      "outputs": []
    },
    {
      "cell_type": "code",
      "metadata": {
        "id": "z5xB49H30FxG",
        "colab": {
          "base_uri": "https://localhost:8080/"
        },
        "outputId": "8877d1dc-f3dc-413b-8c81-dba424746935"
      },
      "source": [
        "from google.colab import drive\r\n",
        "drive.mount('/content/drive')"
      ],
      "execution_count": 2,
      "outputs": [
        {
          "output_type": "stream",
          "text": [
            "Drive already mounted at /content/drive; to attempt to forcibly remount, call drive.mount(\"/content/drive\", force_remount=True).\n"
          ],
          "name": "stdout"
        }
      ]
    },
    {
      "cell_type": "code",
      "metadata": {
        "id": "41CoGDYn0IPF"
      },
      "source": [
        "my_path ='/content/drive/My Drive/My Regression Task /Google-Playstore.csv'\r\n",
        "df=pd.read_csv(my_path)"
      ],
      "execution_count": 3,
      "outputs": []
    },
    {
      "cell_type": "markdown",
      "metadata": {
        "id": "WxwE6IigglSK"
      },
      "source": [
        "# Date cleaning"
      ]
    },
    {
      "cell_type": "code",
      "metadata": {
        "id": "NYQvQd9sf89R"
      },
      "source": [
        "#first cleaning\r\n",
        "df=df.rename(lambda col: col.lower(),axis=1).rename(lambda col: col.strip(),axis=1)\r\n",
        "df.columns = df.columns.str.replace(' ','_')\r\n",
        "df=df.drop(columns=[\"minimum_android\",\"currency\",\"price\",\"free\",\"installs\",\"app_name\",\"app_id\",\"developer_website\",\"developer_email\",\"privacy_policy\",\"released\",\"developer_id\"],axis=1)\r\n",
        "df[\"category\"]=df[\"category\"].fillna('Casual')\r\n",
        "df=df[df[\"size\"].str[-1]!='e']\r\n",
        "df=df.dropna(subset=[\"rating\"])\r\n",
        "df=df[df[\"rating\"]>0.0]\r\n",
        "df[\"content_rating\"]=df[\"content_rating\"].replace({'Mature 17+':'Adults only 18+'})"
      ],
      "execution_count": 4,
      "outputs": []
    },
    {
      "cell_type": "code",
      "metadata": {
        "id": "K4_DVdoMfy5B"
      },
      "source": [
        "#converting to uniform size\r\n",
        "def fix_size(df):\r\n",
        "  df[\"mekadem\"]=df['size'].str[-1]\r\n",
        "  df[\"number\"]=df[\"size\"].str[:-1]\r\n",
        "  df[\"mekadem\"]=df[\"mekadem\"].replace({'M': 1.0, 'k' : 0.001, 'G': 1000.0})\r\n",
        "  df[\"size\"]=df[\"mekadem\"]*df[\"number\"].str.replace(',','').astype(float)\r\n",
        "  df=df.drop(columns=[\"number\",\"mekadem\"],axis=1)\r\n",
        "\r\n",
        "  return df"
      ],
      "execution_count": 5,
      "outputs": []
    },
    {
      "cell_type": "code",
      "metadata": {
        "id": "xx2lspBbeUay"
      },
      "source": [
        "#converting to uniform size\r\n",
        "def mean_install(df):\r\n",
        "  df[\"minimum_installs\"]=df[\"minimum_installs\"].fillna(df[\"minimum_installs\"].mean())\r\n",
        "  df[\"installs\"]=(df[\"maximum_installs\"]+df[\"minimum_installs\"])/2\r\n",
        "  df=df.drop(columns=[\"maximum_installs\",\"minimum_installs\"],axis=1)\r\n",
        "\r\n",
        "  return df"
      ],
      "execution_count": 6,
      "outputs": []
    },
    {
      "cell_type": "code",
      "metadata": {
        "id": "asUaIvf529Sq"
      },
      "source": [
        "#converting dates to days\r\n",
        "def days_delta(date):\r\n",
        "  date = datetime.strptime(date,\"%b %d, %Y\")\r\n",
        "\r\n",
        "  td= (datetime(2020,12,1) - date)\r\n",
        "  num_days=td / timedelta (days=1)\r\n",
        "\r\n",
        "  return num_days"
      ],
      "execution_count": 7,
      "outputs": []
    },
    {
      "cell_type": "code",
      "metadata": {
        "id": "1uT-C-LB5nNc"
      },
      "source": [
        "#converting to uniform size>> for minimum android feature add to  X model\r\n",
        "def min_android(str_android):\r\n",
        "  new_str=re.sub('[^0-9\\.\\0-9]+','',str_android)\r\n",
        "  if '-' in new_str:\r\n",
        "    new_str=new_str.split('-')[0]\r\n",
        "\r\n",
        "  return new_str"
      ],
      "execution_count": 8,
      "outputs": []
    },
    {
      "cell_type": "code",
      "metadata": {
        "id": "xhZWR5FHaCu_"
      },
      "source": [
        "#-->fullfilling the methods\r\n",
        "df=df.pipe(fix_size)\r\n",
        "df=df.pipe(mean_install)\r\n",
        "df[\"last_updated\"]=df[\"last_updated\"].apply(lambda d: days_delta(d))"
      ],
      "execution_count": 9,
      "outputs": []
    },
    {
      "cell_type": "markdown",
      "metadata": {
        "id": "s30XUTqBPtjk"
      },
      "source": [
        "# Visualization"
      ]
    },
    {
      "cell_type": "code",
      "metadata": {
        "id": "pz3Pi_AL1B2v"
      },
      "source": [
        "#summry table\r\n",
        "def table_info(df):\r\n",
        "    print(f\"Dataset Shape: {df.shape}\")\r\n",
        "    first_check = pd.DataFrame(df.dtypes,columns=['dtypes'])\r\n",
        "    first_check = first_check.reset_index()\r\n",
        "    first_check['Name'] = first_check['index']\r\n",
        "    first_check = first_check[['Name','dtypes']]\r\n",
        "    first_check['isnull'] = df.isnull().sum().values    \r\n",
        "    first_check['nUniques'] = df.nunique().values\r\n",
        "\r\n",
        "    return first_check"
      ],
      "execution_count": 10,
      "outputs": []
    },
    {
      "cell_type": "code",
      "metadata": {
        "colab": {
          "base_uri": "https://localhost:8080/",
          "height": 376
        },
        "id": "8TnWRl3x1EDb",
        "outputId": "b992353d-ac6d-447d-83c4-4eeaf4a107e2"
      },
      "source": [
        "table_info(df)"
      ],
      "execution_count": 11,
      "outputs": [
        {
          "output_type": "stream",
          "text": [
            "Dataset Shape: (652572, 10)\n"
          ],
          "name": "stdout"
        },
        {
          "output_type": "execute_result",
          "data": {
            "text/html": [
              "<div>\n",
              "<style scoped>\n",
              "    .dataframe tbody tr th:only-of-type {\n",
              "        vertical-align: middle;\n",
              "    }\n",
              "\n",
              "    .dataframe tbody tr th {\n",
              "        vertical-align: top;\n",
              "    }\n",
              "\n",
              "    .dataframe thead th {\n",
              "        text-align: right;\n",
              "    }\n",
              "</style>\n",
              "<table border=\"1\" class=\"dataframe\">\n",
              "  <thead>\n",
              "    <tr style=\"text-align: right;\">\n",
              "      <th></th>\n",
              "      <th>Name</th>\n",
              "      <th>dtypes</th>\n",
              "      <th>isnull</th>\n",
              "      <th>nUniques</th>\n",
              "    </tr>\n",
              "  </thead>\n",
              "  <tbody>\n",
              "    <tr>\n",
              "      <th>0</th>\n",
              "      <td>category</td>\n",
              "      <td>object</td>\n",
              "      <td>0</td>\n",
              "      <td>48</td>\n",
              "    </tr>\n",
              "    <tr>\n",
              "      <th>1</th>\n",
              "      <td>rating</td>\n",
              "      <td>float64</td>\n",
              "      <td>0</td>\n",
              "      <td>41</td>\n",
              "    </tr>\n",
              "    <tr>\n",
              "      <th>2</th>\n",
              "      <td>rating_count</td>\n",
              "      <td>float64</td>\n",
              "      <td>0</td>\n",
              "      <td>31925</td>\n",
              "    </tr>\n",
              "    <tr>\n",
              "      <th>3</th>\n",
              "      <td>size</td>\n",
              "      <td>float64</td>\n",
              "      <td>0</td>\n",
              "      <td>1459</td>\n",
              "    </tr>\n",
              "    <tr>\n",
              "      <th>4</th>\n",
              "      <td>last_updated</td>\n",
              "      <td>float64</td>\n",
              "      <td>0</td>\n",
              "      <td>3664</td>\n",
              "    </tr>\n",
              "    <tr>\n",
              "      <th>5</th>\n",
              "      <td>content_rating</td>\n",
              "      <td>object</td>\n",
              "      <td>0</td>\n",
              "      <td>5</td>\n",
              "    </tr>\n",
              "    <tr>\n",
              "      <th>6</th>\n",
              "      <td>ad_supported</td>\n",
              "      <td>bool</td>\n",
              "      <td>0</td>\n",
              "      <td>2</td>\n",
              "    </tr>\n",
              "    <tr>\n",
              "      <th>7</th>\n",
              "      <td>in_app_purchases</td>\n",
              "      <td>bool</td>\n",
              "      <td>0</td>\n",
              "      <td>2</td>\n",
              "    </tr>\n",
              "    <tr>\n",
              "      <th>8</th>\n",
              "      <td>editors_choice</td>\n",
              "      <td>bool</td>\n",
              "      <td>0</td>\n",
              "      <td>2</td>\n",
              "    </tr>\n",
              "    <tr>\n",
              "      <th>9</th>\n",
              "      <td>installs</td>\n",
              "      <td>float64</td>\n",
              "      <td>0</td>\n",
              "      <td>196482</td>\n",
              "    </tr>\n",
              "  </tbody>\n",
              "</table>\n",
              "</div>"
            ],
            "text/plain": [
              "               Name   dtypes  isnull  nUniques\n",
              "0          category   object       0        48\n",
              "1            rating  float64       0        41\n",
              "2      rating_count  float64       0     31925\n",
              "3              size  float64       0      1459\n",
              "4      last_updated  float64       0      3664\n",
              "5    content_rating   object       0         5\n",
              "6      ad_supported     bool       0         2\n",
              "7  in_app_purchases     bool       0         2\n",
              "8    editors_choice     bool       0         2\n",
              "9          installs  float64       0    196482"
            ]
          },
          "metadata": {
            "tags": []
          },
          "execution_count": 11
        }
      ]
    },
    {
      "cell_type": "code",
      "metadata": {
        "colab": {
          "base_uri": "https://localhost:8080/",
          "height": 351
        },
        "id": "V_9BlJKFt4tE",
        "outputId": "4c6008a1-2fa8-4cd0-c6d2-05d336ffb01e"
      },
      "source": [
        "plt.figure(figsize=(5,5))\r\n",
        "sns.boxenplot(x='content_rating',y='rating',data=df)\r\n",
        "plt.title('content_rating distribution')\r\n",
        "plt.show()"
      ],
      "execution_count": 12,
      "outputs": [
        {
          "output_type": "display_data",
          "data": {
            "image/png": "[encoded data removed]",
            "text/plain": [
              "<Figure size 360x360 with 1 Axes>"
            ]
          },
          "metadata": {
            "tags": [],
            "needs_background": "light"
          }
        }
      ]
    },
    {
      "cell_type": "code",
      "metadata": {
        "colab": {
          "base_uri": "https://localhost:8080/",
          "height": 499
        },
        "id": "opZwTyc8Us7q",
        "outputId": "93f8b16e-6916-4ac4-f5a5-7764aaa18d1f"
      },
      "source": [
        "cat_to_insatlls=df.groupby(\"category\")[\"rating\"].size().sort_values(ascending=False).head(8)\r\n",
        "plt.subplots(figsize= (8,8))\r\n",
        "sns.barplot(y=cat_to_insatlls.index,x=cat_to_insatlls.values,palette='muted')\r\n",
        "plt.title(\"Most rated categories\")\r\n",
        "plt.show()"
      ],
      "execution_count": 13,
      "outputs": [
        {
          "output_type": "display_data",
          "data": {
            "image/png": "[encoded data removed]",
            "text/plain": [
              "<Figure size 576x576 with 1 Axes>"
            ]
          },
          "metadata": {
            "tags": [],
            "needs_background": "light"
          }
        }
      ]
    },
    {
      "cell_type": "code",
      "metadata": {
        "id": "HoxKPwiqvShI",
        "colab": {
          "base_uri": "https://localhost:8080/",
          "height": 578
        },
        "outputId": "1ae23dac-c891-44a0-d55a-dfaf226ea955"
      },
      "source": [
        "#correlation heatmap plot\r\n",
        "plt.figure(figsize=(8,8))\r\n",
        "correl=df.drop(['rating'],axis=1).corr()\r\n",
        "sns.heatmap(correl,annot=True,cmap='Blues')\r\n",
        "plt.title('Correlation cmap of features')\r\n",
        "plt.show()"
      ],
      "execution_count": 103,
      "outputs": [
        {
          "output_type": "display_data",
          "data": {
            "image/png": "[encoded data removed]",
            "text/plain": [
              "<Figure size 576x576 with 2 Axes>"
            ]
          },
          "metadata": {
            "tags": [],
            "needs_background": "light"
          }
        }
      ]
    },
    {
      "cell_type": "code",
      "metadata": {
        "id": "pbgrhyTLaanb"
      },
      "source": [
        "#correlatin function method\r\n",
        "def correlation(df,threshold):\r\n",
        "  col_corr=set()\r\n",
        "  corr_matrix=df.corr()\r\n",
        "  for i in range(len(corr_matrix.columns)):\r\n",
        "    for j in range (i):\r\n",
        "      if abs(corr_matrix.iloc[i,j])>threshold:\r\n",
        "        col_name=corr_matrix.columns[i]\r\n",
        "        col_corr.add(col_name)\r\n",
        "\r\n",
        "  return col_corr"
      ],
      "execution_count": 15,
      "outputs": []
    },
    {
      "cell_type": "code",
      "metadata": {
        "colab": {
          "base_uri": "https://localhost:8080/"
        },
        "id": "MFJD202VcAKz",
        "outputId": "9e398dd2-2868-4131-9518-546e52f6598a"
      },
      "source": [
        "corr_features=correlation(df.drop([\"rating\"],axis=1),0.1)\r\n",
        "print(f\"The of most correlated featrues are  {corr_features}\")"
      ],
      "execution_count": 16,
      "outputs": [
        {
          "output_type": "stream",
          "text": [
            "The of most correlated featrues are  {'editors_choice', 'in_app_purchases', 'installs', 'last_updated'}\n"
          ],
          "name": "stdout"
        }
      ]
    },
    {
      "cell_type": "code",
      "metadata": {
        "colab": {
          "base_uri": "https://localhost:8080/",
          "height": 312
        },
        "id": "pgLrRzF54XZO",
        "outputId": "a94a435d-aecb-4faa-c170-27c6aa162789"
      },
      "source": [
        "x_labels_name=['1-2','2-3','3-4','4-5']\r\n",
        "df_rating = df.groupby(pd.cut(df['rating'], bins=[1,2,3,4,5])).size()\r\n",
        "df_rating.plot.bar(color='red')\r\n",
        "plt.xticks([0,1,2,3],x_labels_name,rotation=0)\r\n",
        "plt.title('Target distribution')"
      ],
      "execution_count": 127,
      "outputs": [
        {
          "output_type": "execute_result",
          "data": {
            "text/plain": [
              "Text(0.5, 1.0, 'Target distribution')"
            ]
          },
          "metadata": {
            "tags": []
          },
          "execution_count": 127
        },
        {
          "output_type": "display_data",
          "data": {
            "image/png": "[encoded data removed]",
            "text/plain": [
              "<Figure size 432x288 with 1 Axes>"
            ]
          },
          "metadata": {
            "tags": [],
            "needs_background": "light"
          }
        }
      ]
    },
    {
      "cell_type": "markdown",
      "metadata": {
        "id": "17JYtmNEiVWl"
      },
      "source": [
        "#Preprocessing"
      ]
    },
    {
      "cell_type": "code",
      "metadata": {
        "id": "vEmBdoJZijLW"
      },
      "source": [
        "#initiating X and y\r\n",
        "X=df.drop(columns=[\"rating\"])\r\n",
        "y=df[\"rating\"]"
      ],
      "execution_count": 32,
      "outputs": []
    },
    {
      "cell_type": "code",
      "metadata": {
        "id": "vaslKE-Qii7D"
      },
      "source": [
        "#spliting the Data\r\n",
        "X_train,X_test,y_train,y_test=split(X,y, test_size=0.3,random_state=1)"
      ],
      "execution_count": 33,
      "outputs": []
    },
    {
      "cell_type": "code",
      "metadata": {
        "id": "aNglvTU2qm8D"
      },
      "source": [
        "#one_hot_encoder transformer\r\n",
        "class MyOneHotEncoder(TransformerMixin, BaseEstimator):\r\n",
        "    \r\n",
        "    def __init__(self):\r\n",
        "        self.ohe = OneHotEncoder(sparse=False, handle_unknown=\"ignore\")\r\n",
        "    \r\n",
        "    def fit(self, X, y=None):\r\n",
        "        self.ohe.fit(X[[\"category\",\"content_rating\",\"ad_supported\",\"in_app_purchases\",\"editors_choice\"]])\r\n",
        "        return self\r\n",
        "    \r\n",
        "    def transform(self, X):\r\n",
        "        transformed_data = pd.DataFrame(self.ohe.transform(X[[\"category\",\"content_rating\",\"ad_supported\",\"in_app_purchases\",\"editors_choice\"]]))\r\n",
        "        numerical_features = X.drop(columns=[\"category\",\"content_rating\",\"ad_supported\",\"in_app_purchases\",\"editors_choice\"], axis=1)\r\n",
        "        \r\n",
        "        return np.concatenate([numerical_features,transformed_data], axis=1)\r\n",
        "    def get_feature_names(self):\r\n",
        "        pass"
      ],
      "execution_count": 41,
      "outputs": []
    },
    {
      "cell_type": "code",
      "metadata": {
        "id": "xt98MtsXwk8L"
      },
      "source": [
        "#initiate the OHE transformer\r\n",
        "my_ohe=MyOneHotEncoder()\r\n",
        "X_train_ohe=my_ohe.fit_transform(X_train)\r\n",
        "X_test_ohe=my_ohe.transform(X_test)"
      ],
      "execution_count": 42,
      "outputs": []
    },
    {
      "cell_type": "markdown",
      "metadata": {
        "id": "d-orMrAuiLLF"
      },
      "source": [
        "# Model"
      ]
    },
    {
      "cell_type": "markdown",
      "metadata": {
        "id": "G8wTnoRA0ePR"
      },
      "source": [
        "# XGBoost"
      ]
    },
    {
      "cell_type": "code",
      "metadata": {
        "id": "Gyf4CYxhxUS6"
      },
      "source": [
        "x_boost=xgb.XGBRegressor()\r\n",
        "\r\n",
        "xgb_params={\r\n",
        "'learning_rate':[0.05,0.1,0.15,0.2,0.25,0.5],\r\n",
        "'n_jobs':[-1],\r\n",
        "'max_depth':[2,3,5,7,10],\r\n",
        "'n_estimators': [10,50,100,200,300],\r\n",
        "'gamma':[0.0,0.1,0.2,0.5],\r\n",
        "'scale_pos_weight': [1,3,5]        \r\n",
        "        }\r\n",
        "\r\n",
        "xgb_random_search=RandomizedSearchCV(x_boost,xgb_params,n_iter=10,scoring='neg_mean_absolute_error',cv=5,verbose=2)"
      ],
      "execution_count": 49,
      "outputs": []
    },
    {
      "cell_type": "code",
      "metadata": {
        "id": "O5at6aih_3vn"
      },
      "source": [
        "xgb_random_search.fit(X_train_ohe,y_train)"
      ],
      "execution_count": null,
      "outputs": []
    },
    {
      "cell_type": "code",
      "metadata": {
        "id": "clepZ9FmEBj_",
        "colab": {
          "base_uri": "https://localhost:8080/"
        },
        "outputId": "3493ba61-d046-4a70-e0bb-a8af793d513c"
      },
      "source": [
        "xgb_random_search.best_params_"
      ],
      "execution_count": 51,
      "outputs": [
        {
          "output_type": "execute_result",
          "data": {
            "text/plain": [
              "{'gamma': 0.2,\n",
              " 'learning_rate': 0.5,\n",
              " 'max_depth': 5,\n",
              " 'n_estimators': 100,\n",
              " 'n_jobs': -1,\n",
              " 'scale_pos_weight': 5}"
            ]
          },
          "metadata": {
            "tags": []
          },
          "execution_count": 51
        }
      ]
    },
    {
      "cell_type": "code",
      "metadata": {
        "id": "qS5-GXwlBr3X"
      },
      "source": [
        "y_pred=xgb_random_search.predict(X_test_ohe)"
      ],
      "execution_count": 52,
      "outputs": []
    },
    {
      "cell_type": "code",
      "metadata": {
        "colab": {
          "base_uri": "https://localhost:8080/"
        },
        "id": "V5dLP2VblCtw",
        "outputId": "38b99557-caa8-4789-a184-cedc18a21666"
      },
      "source": [
        "mean_absolute_error(y_test, y_pred)"
      ],
      "execution_count": 53,
      "outputs": [
        {
          "output_type": "execute_result",
          "data": {
            "text/plain": [
              "0.4276066634167766"
            ]
          },
          "metadata": {
            "tags": []
          },
          "execution_count": 53
        }
      ]
    },
    {
      "cell_type": "markdown",
      "metadata": {
        "id": "WWVwqtTc0jVg"
      },
      "source": [
        "# Random Forest"
      ]
    },
    {
      "cell_type": "code",
      "metadata": {
        "id": "Up9AN-Y9RFOk"
      },
      "source": [
        "r_forest=RandomForestRegressor()\r\n",
        "\r\n",
        "forest_params={\r\n",
        "'n_jobs':[-1],\r\n",
        "'max_depth':[2,3,5,7,10],\r\n",
        "'n_estimators': [50,100,200,300],\r\n",
        "'min_samples_split': [3,5,10,30]        \r\n",
        "        }\r\n",
        "\r\n",
        "rnf_random_search=RandomizedSearchCV(r_forest,forest_params,n_iter=10,scoring='neg_mean_absolute_error',cv=5,verbose=2)"
      ],
      "execution_count": 44,
      "outputs": []
    },
    {
      "cell_type": "code",
      "metadata": {
        "id": "G8GnYzOhRyTM"
      },
      "source": [
        "rnf_random_search.fit(X_train_ohe,y_train)"
      ],
      "execution_count": null,
      "outputs": []
    },
    {
      "cell_type": "code",
      "metadata": {
        "colab": {
          "base_uri": "https://localhost:8080/"
        },
        "id": "7KbIpLcqTy80",
        "outputId": "869de22b-9efa-4914-bd54-41ec52401039"
      },
      "source": [
        "rnf_random_search.best_params_"
      ],
      "execution_count": 46,
      "outputs": [
        {
          "output_type": "execute_result",
          "data": {
            "text/plain": [
              "{'max_depth': 7, 'min_samples_split': 5, 'n_estimators': 100, 'n_jobs': -1}"
            ]
          },
          "metadata": {
            "tags": []
          },
          "execution_count": 46
        }
      ]
    },
    {
      "cell_type": "code",
      "metadata": {
        "id": "Ycubp5tGT3RJ"
      },
      "source": [
        "y_pred=rnf_random_search.predict(X_test_ohe)"
      ],
      "execution_count": 47,
      "outputs": []
    },
    {
      "cell_type": "code",
      "metadata": {
        "colab": {
          "base_uri": "https://localhost:8080/"
        },
        "id": "iVmktuSMT45e",
        "outputId": "65ee7193-227f-49c0-e3f6-870cf8e7018b"
      },
      "source": [
        "mean_absolute_error(y_test, y_pred)"
      ],
      "execution_count": 48,
      "outputs": [
        {
          "output_type": "execute_result",
          "data": {
            "text/plain": [
              "0.45663961573081596"
            ]
          },
          "metadata": {
            "tags": []
          },
          "execution_count": 48
        }
      ]
    },
    {
      "cell_type": "markdown",
      "metadata": {
        "id": "HSlUxkVRFl9h"
      },
      "source": [
        "**Finally the better model is XGBoost which brings us the better results for this data**"
      ]
    }
  ]
}